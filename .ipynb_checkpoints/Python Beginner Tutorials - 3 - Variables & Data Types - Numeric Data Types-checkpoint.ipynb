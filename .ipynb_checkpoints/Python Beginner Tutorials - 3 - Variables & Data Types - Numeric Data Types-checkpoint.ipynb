{
 "cells": [
  {
   "cell_type": "code",
   "execution_count": null,
   "metadata": {},
   "outputs": [],
   "source": [
    "#In Python there three core types of numeric values: Integer, Float, Complex\n",
    "integer_example = 34         # An whole number must be between -inF to +inF\n",
    "float_example = 34.19        # A floating point number\n",
    "complex_example = 27 + 5j    # A complex number with real and imaginary parts"
   ]
  },
  {
   "cell_type": "code",
   "execution_count": null,
   "metadata": {},
   "outputs": [],
   "source": [
    "#OPERATIONS ON NUMBERS\n",
    "a = 20  #Define integer a\n",
    "b = 5   #Define integer n\n",
    " \n",
    "print(\"Basic Operations with Integers\")\n",
    "print(\"a + b =\", a + b)       # Sum\n",
    "print(\"a - b =\", a - b)       # Subtract\n",
    "print(\"a / b =\", a / b)       # Divide \n",
    "print(\"a * b =\", a * b)       # Multiply\n",
    "print(\"b ^ 2 =\", b ** 2)      # Power of number (b^2)\n",
    "print(\"4 ^ (1 / 2) =\", 4 ** (1/2))  # Root of number (square root of 4)"
   ]
  },
  {
   "cell_type": "code",
   "execution_count": null,
   "metadata": {},
   "outputs": [],
   "source": [
    "c = 2.7  #Define float c\n",
    "\n",
    "print(\"Basic Operations with Integers and Floats\")\n",
    "print(\"a + c =\", a + c)\n",
    "print(\"a - c =\", a - c)\n",
    "print(\"a / c =\", a / c)\n",
    "print(\"a * c =\", a * c)\n",
    "print(\"a ** c =\", a ** c)\n",
    "print(\"pow(a, c) =\", pow(a, c))\n",
    "print(\"Whole part of c =\", int(c))  #int() function just truncate the part after \".\" to get integer part "
   ]
  },
  {
   "cell_type": "code",
   "execution_count": null,
   "metadata": {},
   "outputs": [],
   "source": [
    "#CONVERTING TYPES AND MODULUS OPERATIONS\n",
    "\n",
    "print(\"Casting integer a variable as float\", float(a)) \n",
    "print(\"Casting float c variable as integer\", int(c))\n",
    "\n",
    "print(\"\\r\\n\")\n",
    "\n",
    "print(\"Modulus operation a % b, the remaining is =\", a % b)\n",
    "print(\"Modulus operation a % b, the number of divider is =\", a // b) #How many of b in a\n",
    "divider, remaining = divmod(a, b)\n",
    "print(\"The remaining from a % b is\", remaining, \"The divider from a // b is\", divider)\n",
    "\n",
    "print(\"\\r\\n\")\n",
    "\n",
    "n = -123\n",
    "\n",
    "print(\"The absolute value of n is =\", abs(n))\n"
   ]
  },
  {
   "cell_type": "code",
   "execution_count": null,
   "metadata": {},
   "outputs": [],
   "source": [
    "#FORMATING FLOATING NUMBERS\n",
    "k = 2.166674545\n",
    "l = 70.83333333333\n",
    "p = 0.546789125\n",
    "print(\"Take only 5 digits from k\", format(k, '.5g'))\n",
    "print(\"Take only 5 digits from p\", format(p, '.5g')) # .#g won't count 0 as a digit. \n",
    "print(\"Take only 5 digits precision on l\", format(l, '.5f'))"
   ]
  },
  {
   "cell_type": "code",
   "execution_count": null,
   "metadata": {},
   "outputs": [],
   "source": [
    "#COMPLEX NUMBER OPERATIONS\n",
    "real, imaginary = complex_example.real, complex_example.imag\n",
    "print(\"Real part of complex number is\", real)\n",
    "print(\"Imaginary part of complex number is\", imaginary)\n",
    "\n",
    "print(\"\\r\\n\")\n",
    "\n",
    "print(\"complex_example =\", complex_example)\n",
    "print(\"complex_example + 4 =\", complex_example + a)\n",
    "print(\"complex_example + 4j =\", complex_example + 4j)\n",
    "print(\"complex_example / 2 =\", complex_example / 2)\n",
    "print(\"complex_example / 2j =\", complex_example / 2j)\n",
    "print(\"complex_example * j =\", complex_example * 1j)"
   ]
  },
  {
   "cell_type": "code",
   "execution_count": null,
   "metadata": {},
   "outputs": [],
   "source": []
  },
  {
   "cell_type": "code",
   "execution_count": null,
   "metadata": {},
   "outputs": [],
   "source": []
  },
  {
   "cell_type": "code",
   "execution_count": null,
   "metadata": {},
   "outputs": [],
   "source": []
  },
  {
   "cell_type": "code",
   "execution_count": null,
   "metadata": {},
   "outputs": [],
   "source": []
  }
 ],
 "metadata": {
  "kernelspec": {
   "display_name": "Python 3",
   "language": "python",
   "name": "python3"
  },
  "language_info": {
   "codemirror_mode": {
    "name": "ipython",
    "version": 3
   },
   "file_extension": ".py",
   "mimetype": "text/x-python",
   "name": "python",
   "nbconvert_exporter": "python",
   "pygments_lexer": "ipython3",
   "version": "3.8.2"
  }
 },
 "nbformat": 4,
 "nbformat_minor": 4
}
