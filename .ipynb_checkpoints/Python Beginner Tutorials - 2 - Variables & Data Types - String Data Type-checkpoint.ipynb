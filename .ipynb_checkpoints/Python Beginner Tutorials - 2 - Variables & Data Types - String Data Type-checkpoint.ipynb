{
 "cells": [
  {
   "cell_type": "code",
   "execution_count": null,
   "metadata": {},
   "outputs": [],
   "source": [
    "#Defining a string with \"\" and ''\n",
    "example_string_1 = \"Hello World 1\"\n",
    "example_string_2 = 'Hello World 2'"
   ]
  },
  {
   "cell_type": "code",
   "execution_count": null,
   "metadata": {},
   "outputs": [],
   "source": [
    "#Printing Strings\n",
    "print(example_string_1)\n",
    "print(example_string_1, example_string_2)"
   ]
  },
  {
   "cell_type": "code",
   "execution_count": null,
   "metadata": {},
   "outputs": [],
   "source": [
    "########### STRING OPERATIONS #############\n",
    "#Joining Strings\n",
    "example_string_joined = example_string_1 + \" \" + example_string_2 # Join two strings with a single space\n",
    "print(\"example_string_joined : \", example_string_joined)\n",
    "example_string_with_spaces = \" \".join(example_string_2) #Puts space before each character in string\n",
    "print(\"example_string_with_spaces : \", example_string_with_spaces) "
   ]
  },
  {
   "cell_type": "code",
   "execution_count": null,
   "metadata": {},
   "outputs": [],
   "source": [
    "#REPLACE OPERATIONS IN STRINGS\n",
    "print(example_string_1.replace(\"World\", \"Mars\")) #Operations need to be assigned to variable in order to be permanent\n",
    "print(example_string_1)\n",
    "print(example_string_1.replace(\"l\", \"x\")) #All \"l\" characters will be replaced\n",
    "print(example_string_1.replace(\"l\", \"x\", 2)) #Only two \"l\" characters from start will be replaced"
   ]
  },
  {
   "cell_type": "code",
   "execution_count": null,
   "metadata": {},
   "outputs": [],
   "source": [
    "#SEARCHING STRINGS\n",
    "#There are .startswith() and .endswith() functions to check strings start and end\n",
    "print(\"Is example_string_1 ends with 'World 1' :\", example_string_1.endswith(\"World 1\")) \n",
    "#Returns True because string ends with given string\n",
    "\n",
    "print(\"Is example_string_1 ends with 'World' :\", example_string_1.endswith(\"World\")) \n",
    "#Returns False because string does not ends with given string\n",
    "\n",
    "#.find() works from left, if you need from right .rfind() is your function\n",
    "print(\"Index of 'World' in example_string_1 :\", example_string_1.find(\"World\"))\n",
    "#Returns the index of first occurance (W's index, remember indexes starts from 0)\n",
    "\n",
    "print(\"Index of 'Banana' in example_string_1 :\", example_string_1.find(\"Banana\")) \n",
    "#Returns -1 because there is no Banana in our string"
   ]
  },
  {
   "cell_type": "code",
   "execution_count": null,
   "metadata": {},
   "outputs": [],
   "source": [
    "#COUNTING CHARACTERS IN A STRING\n",
    "example_string_3 = \"There are some monkeys, lions, birds, and pythons in the jungle\"\n",
    "\n",
    "print(\"The lenght of whole string is\", len(example_string_3))\n",
    "\n",
    "print(\"There are\", example_string_3.count(\",\"), \"commas are in the string.\") #Counts \",\" s in string"
   ]
  },
  {
   "cell_type": "code",
   "execution_count": null,
   "metadata": {},
   "outputs": [],
   "source": [
    "#CASE OF STRINGS (UPPER and LOWER)\n",
    "lowercase_string = \"python science\"\n",
    "uppercase_string = \"YOUTUBE\"\n",
    "mixedcase_string = \"Hi There!\"\n",
    "\n",
    "print(\"Is 'lowercase_string' lowercase? :\", lowercase_string.islower())\n",
    "print(\"Is 'uppercase_string' uppercase? :\", uppercase_string.isupper())\n",
    "\n",
    "print(\"Is 'mixedcase_string.lower()' lowercase? :\", mixedcase_string.lower() , mixedcase_string.lower().islower())\n",
    "print(\"Is 'mixedcase_string.upper()' uppercase? :\", mixedcase_string.upper() , mixedcase_string.upper().isupper())"
   ]
  },
  {
   "cell_type": "code",
   "execution_count": null,
   "metadata": {},
   "outputs": [],
   "source": [
    "#REMOVING SPACES \n",
    "#from begining, end, and middle of strings\n",
    "str_with_space_at_end = \"I know how to change case in strings \"\n",
    "str_with_space_at_begin = \" and check if string is upper or lower case\"\n",
    "str_with_space_at_both = \" python is so cool \""
   ]
  },
  {
   "cell_type": "code",
   "execution_count": null,
   "metadata": {},
   "outputs": [],
   "source": [
    "#The method .rstrip() Removes all spaces from END of string\n",
    "print(\"How 'rstrip' works:\\r\\n\"\n",
    "      ,\"'\" + str_with_space_at_end.rstrip() + \"'\\r\\n\" \n",
    "      ,\"'\" + str_with_space_at_begin.rstrip() + \"'\\r\\n\"\n",
    "      ,\"'\" + str_with_space_at_both.rstrip() + \"'\"\n",
    "     )"
   ]
  },
  {
   "cell_type": "code",
   "execution_count": null,
   "metadata": {},
   "outputs": [],
   "source": [
    "#The method .lstrip() Removes all spaces from BEGINING of string\n",
    "print(\"How 'lstrip' works:\\r\\n\"\n",
    "      ,\"'\" + str_with_space_at_end.lstrip() + \"'\\r\\n\" \n",
    "      ,\"'\" + str_with_space_at_begin.lstrip() + \"'\\r\\n\"\n",
    "      ,\"'\" + str_with_space_at_both.lstrip() + \"'\"\n",
    "     )"
   ]
  },
  {
   "cell_type": "code",
   "execution_count": null,
   "metadata": {},
   "outputs": [],
   "source": [
    "#The method .strip() Removes all spaces from END and BEGINING of string\n",
    "print(\"How 'lstrip' works:\\r\\n\"\n",
    "      ,\"'\" + str_with_space_at_end.strip() + \"'\\r\\n\" \n",
    "      ,\"'\" + str_with_space_at_begin.strip() + \"'\\r\\n\"\n",
    "      ,\"'\" + str_with_space_at_both.strip() + \"'\"\n",
    "     )\n",
    "#If you need to remove all spaces in a string just use your_string.replace(\" \", \"\")"
   ]
  },
  {
   "cell_type": "code",
   "execution_count": null,
   "metadata": {},
   "outputs": [],
   "source": [
    "#CONSTRUCT COLLECTION FROM LIST/ARRAY\n",
    "string = \"One;Two;Three;Four\"\n",
    "str_array = my_string.split(\";\")\n",
    "print(\"Type:\", type(my_str_array), \" | Array:\", my_str_array)"
   ]
  },
  {
   "cell_type": "code",
   "execution_count": null,
   "metadata": {},
   "outputs": [],
   "source": [
    "#LISTING ALL AVAILABLE METHODS (FUNCTIONS) FOR STRINGS\n",
    "dummy_str = \"Hello\"\n",
    "\n",
    "print(\"############### STRING METHOD LIST #############\")\n",
    "print(\"\\r\\n\".join(dir(dummy_str)))\n",
    "print(\"################################################\")\n",
    "\n",
    "print(\"DOCS FOR RPARTITION:\",dummy_str.rpartition.__doc__)"
   ]
  },
  {
   "cell_type": "code",
   "execution_count": null,
   "metadata": {},
   "outputs": [],
   "source": []
  }
 ],
 "metadata": {
  "kernelspec": {
   "display_name": "Python 3",
   "language": "python",
   "name": "python3"
  },
  "language_info": {
   "codemirror_mode": {
    "name": "ipython",
    "version": 3
   },
   "file_extension": ".py",
   "mimetype": "text/x-python",
   "name": "python",
   "nbconvert_exporter": "python",
   "pygments_lexer": "ipython3",
   "version": "3.8.2"
  }
 },
 "nbformat": 4,
 "nbformat_minor": 4
}
