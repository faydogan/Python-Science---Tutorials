{
 "cells": [
  {
   "cell_type": "code",
   "execution_count": 16,
   "metadata": {},
   "outputs": [],
   "source": [
    "#Defining a string with \"\" and ''\n",
    "my_string_1 = \"Hello World 1\"\n",
    "my_string_2 = 'Hello World 2'"
   ]
  },
  {
   "cell_type": "code",
   "execution_count": 17,
   "metadata": {},
   "outputs": [
    {
     "name": "stdout",
     "output_type": "stream",
     "text": [
      "Hello World 1\n",
      "Hello World 2\n",
      "Hello World 1 Hello World 2\n"
     ]
    }
   ],
   "source": [
    "#Printing Strings\n",
    "print(my_string_1)\n",
    "print(my_string_1, my_string_2)"
   ]
  },
  {
   "cell_type": "code",
   "execution_count": 29,
   "metadata": {},
   "outputs": [
    {
     "name": "stdout",
     "output_type": "stream",
     "text": [
      "my_string_joined :  Hello World 1 Hello World 2\n",
      "my_string_with_spaces :  H e l l o   W o r l d   2\n"
     ]
    }
   ],
   "source": [
    "########### STRING OPERATIONS #############\n",
    "#Joining Strings\n",
    "my_string_joined = my_string_1 + \" \" + my_string_2 # Join two strings with a single space\n",
    "print(\"my_string_joined : \", my_string_joined)\n",
    "my_string_with_spaces = \" \".join(my_string_2) #Puts space before each character in string\n",
    "print(\"my_string_with_spaces : \", my_string_with_spaces) "
   ]
  },
  {
   "cell_type": "code",
   "execution_count": 28,
   "metadata": {},
   "outputs": [
    {
     "name": "stdout",
     "output_type": "stream",
     "text": [
      "Hello Mars 1\n",
      "Hello World 1\n",
      "Hexxo Worxd 1\n",
      "Hexxo World 1\n"
     ]
    }
   ],
   "source": [
    "#REPLACE OPERATIONS IN STRINGS\n",
    "print(my_string_1.replace(\"World\", \"Mars\")) #Operations need to be assigned to variable in order to be permanent\n",
    "print(my_string_1)\n",
    "print(my_string_1.replace(\"l\", \"x\")) #All \"l\" characters will be replaced\n",
    "print(my_string_1.replace(\"l\", \"x\", 2)) #Only two \"l\" characters from start will be replaced"
   ]
  },
  {
   "cell_type": "code",
   "execution_count": 70,
   "metadata": {},
   "outputs": [
    {
     "name": "stdout",
     "output_type": "stream",
     "text": [
      "Is my_string_1 ends with 'World 1' : True\n",
      "Is my_string_1 ends with 'World' : False\n",
      "Index of 'World' in my_string_1 : 6\n",
      "Index of 'Banana' in my_string_1 : -1\n"
     ]
    }
   ],
   "source": [
    "#SEARCHING STRINGS\n",
    "#There are .startswith() and .endswith() functions to check strings start and end\n",
    "print(\"Is my_string_1 ends with 'World 1' :\", my_string_1.endswith(\"World 1\")) \n",
    "#Returns True because string ends with given string\n",
    "\n",
    "print(\"Is my_string_1 ends with 'World' :\", my_string_1.endswith(\"World\")) \n",
    "#Returns False because string does not ends with given string\n",
    "\n",
    "#.find() works from left, if you need from right .rfind() is your function\n",
    "print(\"Index of 'World' in my_string_1 :\", my_string_1.find(\"World\"))\n",
    "#Returns the index of first occurance (W's index, remember indexes starts from 0)\n",
    "\n",
    "print(\"Index of 'Banana' in my_string_1 :\", my_string_1.find(\"Banana\")) \n",
    "#Returns -1 because there is no Banana in our string"
   ]
  },
  {
   "cell_type": "code",
   "execution_count": 69,
   "metadata": {},
   "outputs": [
    {
     "name": "stdout",
     "output_type": "stream",
     "text": [
      "The lenght of whole string is 63\n",
      "There are 3 commans are in the string.\n"
     ]
    }
   ],
   "source": [
    "#COUNTING CHARACTERS IN A STRING\n",
    "my_string_3 = \"There are some monkeys, lions, birds, and pythons in the jungle\"\n",
    "\n",
    "print(\"The lenght of whole string is\", len(my_string_3))\n",
    "\n",
    "print(\"There are\", my_string_3.count(\",\"), \"commas are in the string.\") #Counts \",\" s in string"
   ]
  },
  {
   "cell_type": "code",
   "execution_count": 45,
   "metadata": {},
   "outputs": [
    {
     "name": "stdout",
     "output_type": "stream",
     "text": [
      "Is 'my_lowercase_string' lowercase? : True\n",
      "Is 'my_uppercase_string' uppercase? : True\n",
      "Is 'my_mixedcase_string.lower()' lowercase? : hi there! True\n",
      "Is 'my_mixedcase_string.upper()' uppercase? : HI THERE! True\n"
     ]
    }
   ],
   "source": [
    "#CASE OF STRINGS (UPPER and LOWER)\n",
    "my_lowercase_string = \"python science\"\n",
    "my_uppercase_string = \"YOUTUBE\"\n",
    "my_mixedcase_string = \"Hi There!\"\n",
    "\n",
    "print(\"Is 'my_lowercase_string' lowercase? :\", my_lowercase_string.islower())\n",
    "print(\"Is 'my_uppercase_string' uppercase? :\", my_uppercase_string.isupper())\n",
    "\n",
    "print(\"Is 'my_mixedcase_string.lower()' lowercase? :\", my_mixedcase_string.lower() , my_mixedcase_string.lower().islower())\n",
    "print(\"Is 'my_mixedcase_string.upper()' uppercase? :\", my_mixedcase_string.upper() , my_mixedcase_string.upper().isupper())"
   ]
  },
  {
   "cell_type": "code",
   "execution_count": 60,
   "metadata": {},
   "outputs": [],
   "source": [
    "#REMOVING SPACES \n",
    "#from begining, end, and middle of strings\n",
    "my_str_with_space_at_end = \"I know how to change case in strings \"\n",
    "my_str_with_space_at_begin = \" and check if string is upper or lower case\"\n",
    "my_str_with_space_at_both = \" python is so cool \""
   ]
  },
  {
   "cell_type": "code",
   "execution_count": 61,
   "metadata": {},
   "outputs": [
    {
     "name": "stdout",
     "output_type": "stream",
     "text": [
      "How 'rstrip' works:\r\n",
      " 'I know how to change case in strings'\r\n",
      " ' and check if string is upper or lower case'\r\n",
      " ' python is so cool'\n"
     ]
    }
   ],
   "source": [
    "#The method .rstrip() Removes all spaces from END of string\n",
    "print(\"How 'rstrip' works:\\r\\n\"\n",
    "      ,\"'\" + my_str_with_space_at_end.rstrip() + \"'\\r\\n\" \n",
    "      ,\"'\" + my_str_with_space_at_begin.rstrip() + \"'\\r\\n\"\n",
    "      ,\"'\" + my_str_with_space_at_both.rstrip() + \"'\"\n",
    "     )"
   ]
  },
  {
   "cell_type": "code",
   "execution_count": 62,
   "metadata": {},
   "outputs": [
    {
     "name": "stdout",
     "output_type": "stream",
     "text": [
      "How 'lstrip' works:\r\n",
      " 'I know how to change case in strings '\r\n",
      " 'and check if string is upper or lower case'\r\n",
      " 'python is so cool '\n"
     ]
    }
   ],
   "source": [
    "#The method .lstrip() Removes all spaces from BEGINING of string\n",
    "print(\"How 'lstrip' works:\\r\\n\"\n",
    "      ,\"'\" + my_str_with_space_at_end.lstrip() + \"'\\r\\n\" \n",
    "      ,\"'\" + my_str_with_space_at_begin.lstrip() + \"'\\r\\n\"\n",
    "      ,\"'\" + my_str_with_space_at_both.lstrip() + \"'\"\n",
    "     )"
   ]
  },
  {
   "cell_type": "code",
   "execution_count": 63,
   "metadata": {},
   "outputs": [
    {
     "name": "stdout",
     "output_type": "stream",
     "text": [
      "How 'lstrip' works:\r\n",
      " 'I know how to change case in strings'\r\n",
      " 'and check if string is upper or lower case'\r\n",
      " 'python is so cool'\n"
     ]
    }
   ],
   "source": [
    "#The method .strip() Removes all spaces from END and BEGINING of string\n",
    "print(\"How 'lstrip' works:\\r\\n\"\n",
    "      ,\"'\" + my_str_with_space_at_end.strip() + \"'\\r\\n\" \n",
    "      ,\"'\" + my_str_with_space_at_begin.strip() + \"'\\r\\n\"\n",
    "      ,\"'\" + my_str_with_space_at_both.strip() + \"'\"\n",
    "     )\n",
    "#If you need to remove all spaces in a string just use your_string.replace(\" \", \"\")"
   ]
  },
  {
   "cell_type": "code",
   "execution_count": 66,
   "metadata": {},
   "outputs": [
    {
     "name": "stdout",
     "output_type": "stream",
     "text": [
      "Type: <class 'list'>  | Array: ['One', 'Two', 'Three', 'Four']\n"
     ]
    }
   ],
   "source": [
    "#CONSTRUCT COLLECTION FROM LIST/ARRAY\n",
    "my_string = \"One;Two;Three;Four\"\n",
    "my_str_array = my_string.split(\";\")\n",
    "print(\"Type:\", type(my_str_array), \" | Array:\", my_str_array)"
   ]
  },
  {
   "cell_type": "code",
   "execution_count": 77,
   "metadata": {},
   "outputs": [
    {
     "name": "stdout",
     "output_type": "stream",
     "text": [
      "############### STRING METHOD LIST #############\n",
      "__add__\r\n",
      "__class__\r\n",
      "__contains__\r\n",
      "__delattr__\r\n",
      "__dir__\r\n",
      "__doc__\r\n",
      "__eq__\r\n",
      "__format__\r\n",
      "__ge__\r\n",
      "__getattribute__\r\n",
      "__getitem__\r\n",
      "__getnewargs__\r\n",
      "__gt__\r\n",
      "__hash__\r\n",
      "__init__\r\n",
      "__init_subclass__\r\n",
      "__iter__\r\n",
      "__le__\r\n",
      "__len__\r\n",
      "__lt__\r\n",
      "__mod__\r\n",
      "__mul__\r\n",
      "__ne__\r\n",
      "__new__\r\n",
      "__reduce__\r\n",
      "__reduce_ex__\r\n",
      "__repr__\r\n",
      "__rmod__\r\n",
      "__rmul__\r\n",
      "__setattr__\r\n",
      "__sizeof__\r\n",
      "__str__\r\n",
      "__subclasshook__\r\n",
      "capitalize\r\n",
      "casefold\r\n",
      "center\r\n",
      "count\r\n",
      "encode\r\n",
      "endswith\r\n",
      "expandtabs\r\n",
      "find\r\n",
      "format\r\n",
      "format_map\r\n",
      "index\r\n",
      "isalnum\r\n",
      "isalpha\r\n",
      "isascii\r\n",
      "isdecimal\r\n",
      "isdigit\r\n",
      "isidentifier\r\n",
      "islower\r\n",
      "isnumeric\r\n",
      "isprintable\r\n",
      "isspace\r\n",
      "istitle\r\n",
      "isupper\r\n",
      "join\r\n",
      "ljust\r\n",
      "lower\r\n",
      "lstrip\r\n",
      "maketrans\r\n",
      "partition\r\n",
      "replace\r\n",
      "rfind\r\n",
      "rindex\r\n",
      "rjust\r\n",
      "rpartition\r\n",
      "rsplit\r\n",
      "rstrip\r\n",
      "split\r\n",
      "splitlines\r\n",
      "startswith\r\n",
      "strip\r\n",
      "swapcase\r\n",
      "title\r\n",
      "translate\r\n",
      "upper\r\n",
      "zfill\n",
      "################################################\n",
      "DOCS FOR RPARTITION: Partition the string into three parts using the given separator.\n",
      "\n",
      "This will search for the separator in the string, starting at the end. If\n",
      "the separator is found, returns a 3-tuple containing the part before the\n",
      "separator, the separator itself, and the part after it.\n",
      "\n",
      "If the separator is not found, returns a 3-tuple containing two empty strings\n",
      "and the original string.\n"
     ]
    }
   ],
   "source": [
    "#LISTING ALL AVAILABLE METHODS (FUNCTIONS) FOR STRINGS\n",
    "dummy_str = \"Hello\"\n",
    "\n",
    "print(\"############### STRING METHOD LIST #############\")\n",
    "print(\"\\r\\n\".join(dir(dummy_str)))\n",
    "print(\"################################################\")\n",
    "\n",
    "print(\"DOCS FOR RPARTITION:\",dummy_str.rpartition.__doc__)"
   ]
  },
  {
   "cell_type": "code",
   "execution_count": null,
   "metadata": {},
   "outputs": [],
   "source": []
  }
 ],
 "metadata": {
  "kernelspec": {
   "display_name": "Python 3",
   "language": "python",
   "name": "python3"
  },
  "language_info": {
   "codemirror_mode": {
    "name": "ipython",
    "version": 3
   },
   "file_extension": ".py",
   "mimetype": "text/x-python",
   "name": "python",
   "nbconvert_exporter": "python",
   "pygments_lexer": "ipython3",
   "version": "3.8.2"
  }
 },
 "nbformat": 4,
 "nbformat_minor": 4
}
