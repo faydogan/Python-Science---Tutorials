{
 "cells": [
  {
   "cell_type": "code",
   "execution_count": null,
   "metadata": {},
   "outputs": [],
   "source": [
    "#In Python there three core types of numeric values: Integer, Float, Complex\n",
    "integer_example = 34         # An whole number must be between -inF to +inF\n",
    "float_example = 34.19        # A floating point number\n",
    "complex_example = 27 + 5j    # A complex number with real and imaginary parts"
   ]
  },
  {
   "cell_type": "code",
   "execution_count": null,
   "metadata": {},
   "outputs": [],
   "source": [
    "#Covert types into each other\n",
    "int_as_str = \"344\"\n",
    "float_as_str = \"356.98\"\n",
    "weird_number_as_str = \"356,98\"\n",
    "number_as_str_with_spaces = \" 128 \"\n",
    "str_mixed_number = \"abc128\""
   ]
  },
  {
   "cell_type": "code",
   "execution_count": null,
   "metadata": {},
   "outputs": [],
   "source": [
    "#Conver integer string to integer type\n",
    "print(\n",
    "    \"Type of convert\", type(int(int_as_str)), \"The Integer Value:\",\n",
    "      int(int_as_str), \"The String Value:\", int_as_str\n",
    "    )"
   ]
  },
  {
   "cell_type": "code",
   "execution_count": null,
   "metadata": {},
   "outputs": [],
   "source": [
    "#Convert float string to float type\n",
    "print(\n",
    "    \"Type of convert\", type(float(float_as_str)), \"The Integer Value:\",\n",
    "      float(float_as_str), \"The String Value:\", float_as_str\n",
    "    )"
   ]
  },
  {
   "cell_type": "code",
   "execution_count": null,
   "metadata": {},
   "outputs": [],
   "source": [
    "#Convert float string to integer type (first convert to\n",
    "#float then int, otherwise throws error)\n",
    "print(\n",
    "    \"Type of convert\", type(int(float_as_str)), \"The Integer Value:\",\n",
    "      int(float_as_str), \"The String Value:\", float_as_str\n",
    "    )"
   ]
  },
  {
   "cell_type": "code",
   "execution_count": null,
   "metadata": {},
   "outputs": [],
   "source": [
    "#Convert numbers with comma into int or float\n",
    "print(\n",
    "    \"Type of convert\", type(float(weird_number_as_str)), \"The Integer Value:\",\n",
    "      float(weird_number_as_str), \"The String Value:\", weird_number_as_str\n",
    "    )"
   ]
  },
  {
   "cell_type": "code",
   "execution_count": null,
   "metadata": {},
   "outputs": [],
   "source": [
    "#Convert number string, which has spaces into int type\n",
    "print(\n",
    "    \"Type of convert\", type(float(number_as_str_with_spaces)), \"The Integer Value:\",\n",
    "      float(number_as_str_with_spaces), \"The String Value:\", number_as_str_with_spaces\n",
    "    )"
   ]
  },
  {
   "cell_type": "code",
   "execution_count": null,
   "metadata": {},
   "outputs": [],
   "source": [
    "#Convert number and char mixed string into int type\n",
    "print(\n",
    "    \"Type of convert\", type(float(str_mixed_number)), \"The Integer Value:\",\n",
    "      float(str_mixed_number), \"The String Value:\", str_mixed_number\n",
    "    )"
   ]
  },
  {
   "cell_type": "code",
   "execution_count": null,
   "metadata": {},
   "outputs": [],
   "source": [
    "#OPERATIONS ON NUMBERS\n",
    "a = 20  #Define integer a\n",
    "b = 5   #Define integer n\n",
    " \n",
    "print(\"Basic Operations with Integers\")\n",
    "print(\"a + b =\", a + b)       # Sum\n",
    "print(\"a - b =\", a - b)       # Subtract\n",
    "print(\"a / b =\", a / b)       # Divide \n",
    "print(\"a * b =\", a * b)       # Multiply\n",
    "print(\"b ^ 2 =\", b ** 2)      # Power of number (b^2)\n",
    "print(\"4 ^ (1 / 2) =\", 4 ** (1/2))  # Root of number (square root of 4)"
   ]
  },
  {
   "cell_type": "code",
   "execution_count": null,
   "metadata": {},
   "outputs": [],
   "source": [
    "c = 2.7  #Define float c\n",
    "\n",
    "print(\"Basic Operations with Integers and Floats\")\n",
    "print(\"a + c =\", a + c)\n",
    "print(\"a - c =\", a - c)\n",
    "print(\"a / c =\", a / c)\n",
    "print(\"a * c =\", a * c)\n",
    "print(\"a ** c =\", a ** c)\n",
    "print(\"pow(a, c) =\", pow(a, c))\n",
    "print(\"Whole part of c =\", int(c))  #int() function just truncate the part after \".\" to get integer part "
   ]
  },
  {
   "cell_type": "code",
   "execution_count": null,
   "metadata": {},
   "outputs": [],
   "source": [
    "#CONVERTING TYPES AND MODULUS OPERATIONS\n",
    "\n",
    "print(\"Casting integer a variable as float\", float(a)) \n",
    "print(\"Casting float c variable as integer\", int(c))\n",
    "\n",
    "print(\"\\r\\n\")\n",
    "\n",
    "print(\"Modulus operation a % b, the remaining is =\", a % b)\n",
    "print(\"Modulus operation a % b, the number of divider is =\", a // b) #How many of b in a\n",
    "divider, remaining = divmod(a, b)\n",
    "print(\"The remaining from a % b is\", remaining, \"The divider from a // b is\", divider)\n",
    "\n",
    "print(\"\\r\\n\")\n",
    "\n",
    "n = -123\n",
    "\n",
    "print(\"The absolute value of n is =\", abs(n))\n"
   ]
  },
  {
   "cell_type": "code",
   "execution_count": null,
   "metadata": {},
   "outputs": [],
   "source": [
    "#FORMATING FLOATING NUMBERS\n",
    "k = 2.166674545\n",
    "l = 70.83333333333\n",
    "p = 0.546789125\n",
    "print(\"Take only 5 digits from k\", format(k, '.5g'))\n",
    "print(\"Take only 5 digits from p\", format(p, '.5g')) # .#g won't count 0 as a digit. \n",
    "print(\"Take only 5 digits precision on l\", format(l, '.5f'))"
   ]
  },
  {
   "cell_type": "code",
   "execution_count": null,
   "metadata": {},
   "outputs": [],
   "source": [
    "#COMPLEX NUMBER OPERATIONS\n",
    "#complex_example = 27 + 5j\n",
    "\n",
    "real, imaginary = complex_example.real, complex_example.imag\n",
    "print(\"Real part of complex number is\", real)\n",
    "print(\"Imaginary part of complex number is\", imaginary)\n",
    "\n",
    "print(\"\\r\\n\")\n",
    "\n",
    "print(\"complex_example =\", complex_example)\n",
    "print(\"complex_example + 4 =\", complex_example + a)\n",
    "print(\"complex_example + 4j =\", complex_example + 4j)\n",
    "print(\"complex_example / 2 =\", complex_example / 2)\n",
    "print(\"complex_example / 2j =\", complex_example / 2j)\n",
    "print(\"complex_example * j =\", complex_example * 1j)"
   ]
  },
  {
   "cell_type": "code",
   "execution_count": null,
   "metadata": {},
   "outputs": [],
   "source": [
    "# Python has two core modules for numeric operations (math and cmath)\n",
    "# Math module: provides access to the mathematical functions defined by the C standard.\n",
    "# CMath module: provides access to mathematical functions for complex numbers.\n",
    "\n",
    "# This will import math and cmath module into our project (Don't use as \"import math, \n",
    "# cmath\" PEP-8 doesn't recommend this syntax )\n",
    "import math\n",
    "import cmath"
   ]
  },
  {
   "cell_type": "code",
   "execution_count": null,
   "metadata": {},
   "outputs": [],
   "source": [
    "# Constants in math module\n",
    "print(\"pi constant is\", math.pi)\n",
    "print(\"e constant is\", math.e)\n",
    "print(\"Tau (2*pi) constant is\", math.tau)\n",
    "print(\"Infinity constant is\", math.inf)\n",
    "print(\"NaN (not a number) constant is\", math.nan)"
   ]
  },
  {
   "cell_type": "code",
   "execution_count": null,
   "metadata": {},
   "outputs": [],
   "source": [
    "# Let's define some numbers\n",
    "f_example = 3.4\n",
    "none_value = None\n",
    "infinity_value = math.inf\n",
    "print(\"Infinity value has a type of:\", type(infinity_value), \", with value of:\", infinity_value)\n",
    "print(\"Infinity value has a type of:\", type(-infinity_value), \", with value of:\", -infinity_value)"
   ]
  },
  {
   "cell_type": "code",
   "execution_count": null,
   "metadata": {},
   "outputs": [],
   "source": [
    "# ceil() and floor() methods in math module\n",
    "print(\"Type:\", type(math.ceil(f_example)), \", Value:\", math.ceil(f_example)) # Round Up\n",
    "print(\"Type:\", type(math.floor(f_example)), \", Value:\", math.floor(f_example)) # Round Down\n",
    "\n",
    "# int() method throws the part after . and doesn't care of its value\n",
    "print(\"Type:\", type(int(f_example)), \", Value:\", int(f_example))"
   ]
  },
  {
   "cell_type": "code",
   "execution_count": null,
   "metadata": {},
   "outputs": [],
   "source": [
    "n = 5\n",
    "k = 2\n",
    "# The factorial of a number math.factorial(n) : n!\n",
    "\n",
    "print(\"The factorial of\", n, \"=\", math.factorial(n))\n",
    "\n",
    "# The Permutation of two numbers math.perm(n, k): n! / (n - k)! \n",
    "print(\"The permutation of (\" + str(n) + \", \" + str(k) + \") = \", math.perm(n, k))\n",
    "print(\"The permutation of (\" + str(n) + \", None) = \", math.perm(n))"
   ]
  },
  {
   "cell_type": "code",
   "execution_count": null,
   "metadata": {},
   "outputs": [],
   "source": [
    "# The combination of two numbers\n",
    "# math.comb(n, k): n! / (k! * (n - k)!)\n",
    "\n",
    "print(\"The combination of (\" + str(n) + \", \" + str(k) + \") = \", math.comb(n, k))"
   ]
  },
  {
   "cell_type": "code",
   "execution_count": null,
   "metadata": {},
   "outputs": [],
   "source": [
    "# The greatest common dividor of two numbers math.gcd(a,b)\n",
    "a = 345\n",
    "b = 120\n",
    "\n",
    "print(\"The GCD of\", a, \"and\", b, \"=\", math.gcd(a, b))"
   ]
  },
  {
   "cell_type": "code",
   "execution_count": null,
   "metadata": {},
   "outputs": [],
   "source": [
    "# Is a number finite or infinite or None math.isfinite(x) and math.isinf(y)\n",
    "x = 34568\n",
    "x2 = 0\n",
    "print(\"X is finite:\", math.isfinite(x))\n",
    "print(\"X2 is finite:\", math.isfinite(x2))\n",
    "\n",
    "y = math.inf\n",
    "y2 = 0\n",
    "print(\"Y is infinite:\", math.isinf(y))\n",
    "print(\"Y2 is infinite:\", math.isinf(y2))"
   ]
  },
  {
   "cell_type": "code",
   "execution_count": null,
   "metadata": {},
   "outputs": [],
   "source": [
    "# There are more options for math methods on math module docs!\n",
    "print(\n",
    "    \"For Power and Logarithmic Functions:\\r\\n\", \n",
    "    \"https://docs.python.org/3/library/math.html#power-and-logarithmic-functions\"\n",
    "    )\n",
    "print(\n",
    "    \"Trigonometric Functions:\\r\\n\", \n",
    "    \"https://docs.python.org/3/library/math.html#trigonometric-functions\"\n",
    "    )\n",
    "print(\n",
    "    \"Angular Conversions:\\r\\n\", \n",
    "    \"https://docs.python.org/3/library/math.html#angular-conversion\"\n",
    "    )\n",
    "print(\n",
    "    \"Hyperbolic Functions:\\r\\n\", \n",
    "    \"https://docs.python.org/3/library/math.html#hyperbolic-functions\"\n",
    "    )\n",
    "print(\n",
    "    \"Special Functions:\\r\\n\", \n",
    "    \"https://docs.python.org/3/library/math.html#special-functions\"\n",
    "    )"
   ]
  },
  {
   "cell_type": "code",
   "execution_count": null,
   "metadata": {},
   "outputs": [],
   "source": [
    "# For Complex please visit docs\n",
    "print(\n",
    "    \"CMath Module:\\r\\n\", \n",
    "    \"https://docs.python.org/3/library/cmath.html#module-cmath\"\n",
    "    )"
   ]
  }
 ],
 "metadata": {
  "kernelspec": {
   "display_name": "Python 3",
   "language": "python",
   "name": "python3"
  },
  "language_info": {
   "codemirror_mode": {
    "name": "ipython",
    "version": 3
   },
   "file_extension": ".py",
   "mimetype": "text/x-python",
   "name": "python",
   "nbconvert_exporter": "python",
   "pygments_lexer": "ipython3",
   "version": "3.8.2"
  }
 },
 "nbformat": 4,
 "nbformat_minor": 4
}
