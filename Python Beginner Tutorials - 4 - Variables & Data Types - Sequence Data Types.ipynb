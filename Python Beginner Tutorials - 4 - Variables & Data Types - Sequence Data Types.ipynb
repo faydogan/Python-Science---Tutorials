{
 "cells": [
  {
   "cell_type": "code",
   "execution_count": null,
   "metadata": {},
   "outputs": [],
   "source": [
    "#LIST, TUPLE, RANGE\n",
    "\n",
    "#1 - List Data Type\n",
    "\n",
    "#Define lists\n",
    "empty_list = []\n",
    "empty_list_2 = list()\n",
    "my_list = [5,4,8,7,1,2,3,9,6]                                            # 1D List with same data types\n",
    "my_mixed_list = [1, \"python\", 2.3, \"4\", \"science\"]                       # 1D List with mixed data types\n",
    "my_multi_dim_list = [[\"One\", 1],[\"Two\", 2], [\"Three\", 3], [\"Half\", 0.5]] # 2D List\n",
    "my_string = \"This string is a list!\"                                     # Every string is a list of chars"
   ]
  },
  {
   "cell_type": "code",
   "execution_count": null,
   "metadata": {},
   "outputs": [],
   "source": [
    "#Append new element into a list\n",
    "print(empty_list)\n",
    "empty_list.append(\"First Element\")\n",
    "print(empty_list)\n",
    "\n",
    "print(\"\\r\\n\")\n",
    "\n",
    "print(my_list)\n",
    "my_list.append(10)\n",
    "print(my_list)\n",
    "\n",
    "print(\"\\r\\n\")\n",
    "\n",
    "print(my_multi_dim_list)\n",
    "my_multi_dim_list.append([\"Four\", 4])\n",
    "print(my_multi_dim_list)"
   ]
  },
  {
   "cell_type": "code",
   "execution_count": null,
   "metadata": {},
   "outputs": [],
   "source": [
    "#Appending a list into another list\n",
    "list_1 = [1,2,3,4]\n",
    "list_2 = [5,6,7,8,9]\n",
    "\n",
    "list_3 = list_1 + list_2 # Same thing with extend, but you will consume extra RAM with list_3\n",
    "print(list_3) \n",
    "\n",
    "list_1.extend(list_2)  # Append each item in list_2 into list_1\n",
    "\n",
    "print(list_1)"
   ]
  },
  {
   "cell_type": "code",
   "execution_count": null,
   "metadata": {},
   "outputs": [],
   "source": [
    "#Insert new element into a list\n",
    "print(my_mixed_list)\n",
    "my_mixed_list.insert(3, 2.4)       # .insert(specify_index, insert_value) [Remember indexes starts from 0]\n",
    "print(my_mixed_list)"
   ]
  },
  {
   "cell_type": "code",
   "execution_count": null,
   "metadata": {},
   "outputs": [],
   "source": [
    "#Taking the last value from list and remove it from list (.pop() method)\n",
    "print(my_multi_dim_list)\n",
    "pick_last_value = my_multi_dim_list.pop()          # .pop() has default argument -1 for last element\n",
    "print(\"We picked and remove :\", pick_last_value)\n",
    "print(my_multi_dim_list)\n",
    "\n",
    "#Taking any index element and removing it from list (.pop(index<int>) method)\n",
    "print(my_multi_dim_list)\n",
    "pick_last_value = my_multi_dim_list.pop(2)          # .pop() will take index 1 element [Remember indexes starts from 0]\n",
    "print(\"We picked and remove :\", pick_last_value)\n",
    "print(my_multi_dim_list)"
   ]
  },
  {
   "cell_type": "code",
   "execution_count": null,
   "metadata": {},
   "outputs": [],
   "source": [
    "#Remove/Delete element from a list\n",
    "new_list = [\"book\", \"shelf\", \"python\", \"mit\", \"edu\", \"science\", \"shelf\"]\n",
    "\n",
    "print(new_list)\n",
    "new_list.remove(\"shelf\")\n",
    "print(new_list)\n",
    "\n",
    "print(\"\\r\\n\")\n",
    "\n",
    "del new_list[2]\n",
    "print(new_list)"
   ]
  }
 ],
 "metadata": {
  "kernelspec": {
   "display_name": "Python 3",
   "language": "python",
   "name": "python3"
  },
  "language_info": {
   "codemirror_mode": {
    "name": "ipython",
    "version": 3
   },
   "file_extension": ".py",
   "mimetype": "text/x-python",
   "name": "python",
   "nbconvert_exporter": "python",
   "pygments_lexer": "ipython3",
   "version": "3.8.2"
  }
 },
 "nbformat": 4,
 "nbformat_minor": 4
}
