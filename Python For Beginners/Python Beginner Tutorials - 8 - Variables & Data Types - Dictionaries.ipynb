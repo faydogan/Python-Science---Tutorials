{
 "cells": [
  {
   "cell_type": "markdown",
   "metadata": {},
   "source": [
    "## Dictionary in Python\n",
    "A mapping object maps hashable values to arbitrary objects. Mappings are mutable objects. There is currently only one standard mapping type, the dictionary.\n",
    "<ul>\n",
    "    <li>A dictionary’s keys are almost arbitrary values. Values that are not hashable, that is, values containing lists, dictionaries or other mutable types (that are compared by value rather than by object identity) may not be used as keys.</li>\n",
    "    <li>Numeric types used for keys obey the normal rules for numeric comparison: if two numbers compare equal (such as 1 and 1.0) then they can be used interchangeably to index the same dictionary entry.</li>\n",
    "</ul>\n",
    "<em style='color:red;'>!!! Note however, that since computers store floating-point numbers as approximations it is usually unwise to use them as dictionary keys.</em>\n",
    "\n",
    "<b>All allowed data types which can used as key in a dictionary are given below:</b>\n",
    "<ol>\n",
    "    <li>Integer</li>\n",
    "    <li>String</li>\n",
    "    <li>Boolean</li>\n",
    "    <li>Float</li>\n",
    "    <li>Tuple</li>\n",
    "    <li>Frozenset</li>\n",
    "</ol>\n",
    "\n",
    "### Defining Dictionaries\n",
    "Dictionaries can be created by following notations, examples given in first three code blocks:\n",
    "<ul>\n",
    "    <li>from comma-separated list of key: value pairs within braces:</li>\n",
    "    <ul><li><code>{ ..., key: value, ....}</code></li>\n",
    "        <li><code>dict(key:value,...)</code></li></ul>\n",
    "    <li>from zipped lists <code>dict(zip(key_list, value_list))</code>, </li>\n",
    "</ul>"
   ]
  },
  {
   "cell_type": "code",
   "execution_count": 19,
   "metadata": {},
   "outputs": [
    {
     "name": "stdout",
     "output_type": "stream",
     "text": [
      "my_dictionary_1 {1: 'One', 2.3: 'Two point three', 'Four': 4, 'List': [1, 2, 3, 4, None]}\n"
     ]
    }
   ],
   "source": [
    "my_dictionary_1 = {1: \"One\", 2.3: \"Two point three\", \"Four\": 4, \"List\": [1, 2, 3, 4, None]}\n",
    "print(\"my_dictionary_1\", my_dictionary_1)"
   ]
  },
  {
   "cell_type": "code",
   "execution_count": 20,
   "metadata": {},
   "outputs": [
    {
     "name": "stdout",
     "output_type": "stream",
     "text": [
      "my_dictionary_2 {'One': 1, 'TwoPointThree': 2.3, 'Four': 4}\n"
     ]
    }
   ],
   "source": [
    "my_dictionary_2 = dict(One=1, TwoPointThree=2.3, Four= 4)\n",
    "print(\"my_dictionary_2\", my_dictionary_2)"
   ]
  },
  {
   "cell_type": "code",
   "execution_count": 21,
   "metadata": {},
   "outputs": [
    {
     "name": "stdout",
     "output_type": "stream",
     "text": [
      "my_dictionary_3 {'One': 1, 2: 'Two', 'Five': 5, 5.4: 'Five point four', True: 1, None: 0}\n"
     ]
    }
   ],
   "source": [
    "key_list = [\"One\", 2, \"Five\", 5.4, True, None]\n",
    "value_list = [1, \"Two\", 5, \"Five point four\", 1, 0]\n",
    "\n",
    "my_dictionary_3 = dict(zip(key_list, value_list))\n",
    "\n",
    "print(\"my_dictionary_3\", my_dictionary_3)"
   ]
  },
  {
   "cell_type": "code",
   "execution_count": 30,
   "metadata": {},
   "outputs": [
    {
     "name": "stdout",
     "output_type": "stream",
     "text": [
      "a_tuple : \r\n",
      " ('A', 'Tuple', 'Can', 'Be', 'Used As A Key In Dictionary')\n",
      "my_dictionary_4 : \r\n",
      " {('A', 'Tuple', 'Can', 'Be', 'Used As A Key In Dictionary'): 'Set of values in key', 'List element': [1, 2, 3, None, 'Beatiful Day', 5.4], 3: 'Three', 'Four': 4}\n"
     ]
    }
   ],
   "source": [
    "# Tuples and frozensets are IMMUTABLE, so we can use them as dictionary keys. (Learn concept Hashable)\n",
    "a_tuple = (\"A\", \"Tuple\", \"Can\", \"Be\", \"Used As A Key In Dictionary\")\n",
    "print(\"a_tuple : \\r\\n\", a_tuple)\n",
    "\n",
    "\n",
    "my_dictionary_4 = {\n",
    "    a_tuple: \"Set of values in key\",\n",
    "    \"List element\": [1,2,3,None,\"Beatiful Day\",5.4], \n",
    "    3:\"Three\", \n",
    "    \"Four\":4\n",
    "}\n",
    "print(\"my_dictionary_4 : \\r\\n\", my_dictionary_4)"
   ]
  },
  {
   "cell_type": "markdown",
   "metadata": {},
   "source": [
    "### Reaching Dictionary Values via Keys\n",
    "We can reach, change, assign or remove elements in a dictionary using keys.\n",
    "<ul>\n",
    "    <li><b>my_dictionary[key] : </b>Using this notation we reach the value assigned to 'key',</li>\n",
    "    <li><b>my_dictionary[key] = new_value : </b>Using this notation we can assign a new value to 'key',</li>\n",
    "    <li><b>del my_dictionary[key] : </b>Using this notation we can delete 'key' and 'value pair from my_dictionary,</li>\n",
    "    <li><b>my_dictionary.get(some_key, default) : </b>Returns the value for some_key and <em style='color:red;'>avoids KeyError.</em></li>\n",
    "</ul>\n",
    "<em>* if <code>key</code> does not exist in dictionary, we will get <code>KeyError</code></em>"
   ]
  },
  {
   "cell_type": "code",
   "execution_count": 34,
   "metadata": {},
   "outputs": [
    {
     "name": "stdout",
     "output_type": "stream",
     "text": [
      "my_dictionary_5[\"Excel\"] : 5 <class 'int'>\n",
      "my_dictionary_5[\"English\"] : [8.0, 7.5, 8.5, 7.5] <class 'list'>\n"
     ]
    }
   ],
   "source": [
    "my_dictionary_5 = {\n",
    "    \"Excel\": 5, \n",
    "    \"Python\": 4.5, \n",
    "    \"English\": [8.0, 7.5, 8.5, 7.5]\n",
    "}\n",
    "\n",
    "print(\"my_dictionary_5[\\\"Excel\\\"] :\", my_dictionary_5[\"Excel\"], type(my_dictionary_5[\"Excel\"]))\n",
    "print(\"my_dictionary_5[\\\"English\\\"] :\", my_dictionary_5[\"English\"], type(my_dictionary_5[\"English\"]))"
   ]
  },
  {
   "cell_type": "code",
   "execution_count": 35,
   "metadata": {},
   "outputs": [
    {
     "name": "stdout",
     "output_type": "stream",
     "text": [
      "my_dictionary_5[\"Excel\"] : Very Good! <class 'str'>\n",
      "my_dictionary_5 : {'Excel': 'Very Good!', 'Python': 4.5, 'English': [8.0, 7.5, 8.5, 7.5]}\n"
     ]
    }
   ],
   "source": [
    "my_dictionary_5[\"Excel\"] = \"Very Good!\"\n",
    "\n",
    "print(\"my_dictionary_5[\\\"Excel\\\"] :\", my_dictionary_5[\"Excel\"], type(my_dictionary_5[\"Excel\"]))\n",
    "print(\"my_dictionary_5 :\", my_dictionary_5)"
   ]
  },
  {
   "cell_type": "code",
   "execution_count": 36,
   "metadata": {},
   "outputs": [
    {
     "name": "stdout",
     "output_type": "stream",
     "text": [
      "my_dictionary_5 : {'Excel': 'Very Good!', 'English': [8.0, 7.5, 8.5, 7.5]}\n"
     ]
    }
   ],
   "source": [
    "del my_dictionary_5[\"Python\"]\n",
    "print(\"my_dictionary_5 :\", my_dictionary_5)"
   ]
  },
  {
   "cell_type": "code",
   "execution_count": 61,
   "metadata": {},
   "outputs": [
    {
     "name": "stdout",
     "output_type": "stream",
     "text": [
      "my_dictionary_5.get(\"Python\") : None\n",
      "my_dictionary_5.get(\"Python\", \"N/A\") : N/A\n"
     ]
    }
   ],
   "source": [
    "print(\"my_dictionary_5.get(\\\"Python\\\") :\", my_dictionary_5.get(\"Python\"))\n",
    "print(\"my_dictionary_5.get(\\\"Python\\\", \\\"N/A\\\") :\", my_dictionary_5.get(\"Python\", \"N/A\"))"
   ]
  },
  {
   "cell_type": "markdown",
   "metadata": {},
   "source": [
    "### Common Operations on Dictinaries\n",
    "Dictionary data type is widely used because it is the equivalent of HASH TABLES. HASH TABLES are the fastest way to obtain an element via key time complexity is O(1). <em>Learn Time Complexity for becoming a SWE!</em>\n",
    "\n",
    "Dictionaries don't have many method compared to lists and sets. But there are some cool features/methods which makes everything easier. These features are:\n",
    "\n",
    "<ul>\n",
    "    <li><b>my_dictionary.keys() : </b>Returns the keys in dictionary as an object. You can iterate on this object Ex. <code>for key in my_dictionary.keys()</code>.</li>\n",
    "    <li><b>my_dictionary.values() : </b>Returns the values in dictionary as an object. You can iterate on this object Ex. <code>for key in my_dictionary.values()</code>.</li>\n",
    "    <li><b>my_dictionary.items() : </b>Returns the key, value pairs in dictionary as an object. You can iterate on this object Ex. <code>for key, value in my_dictionary.items()</code>.</li>\n",
    "    <li><b>list(my_dictionary) : </b>Returns the list of keys in dictionary.</li>\n",
    "    <li><b>list(my_dictionary.values()) : </b>Returns the list of values in dictionary.</li>\n",
    "    <li><b>len(my_dictionary) : </b>Returns the length of dictionary (Counts pairs as 1 Ex len({1:\"a\", 2:\"b\"}) returns 2).</li>\n",
    "    <li><b>some_key in my_dictionary : </b>Returns <code>True</code> if some_key is in in dictionary, else <code>False</code>.\n",
    "    <li><b>my_dictionary.clear() : </b>Clears the whole dictionary, my_dictionary becomes an empty dictionary.</li>\n",
    "    <li><b>my_dictionary.copy() : </b>Returns a shallow copy of dictionary.</li>\n",
    "    <li><b>my_dictionary.update(other_dict) : </b>Adds key,value pairs from other_dict to my_dictionary.</li>\n",
    "</ul>\n"
   ]
  },
  {
   "cell_type": "code",
   "execution_count": 62,
   "metadata": {},
   "outputs": [],
   "source": [
    "my_dictionary_6 = {\n",
    "    \"Username\": \"adam.smith\", \n",
    "    \"Salary\": 9500, \n",
    "    \"Age\": 45,\n",
    "    \"Location\": \"New York\"\n",
    "}"
   ]
  },
  {
   "cell_type": "code",
   "execution_count": 64,
   "metadata": {},
   "outputs": [
    {
     "name": "stdout",
     "output_type": "stream",
     "text": [
      "my_dictionary_6.keys() dict_keys(['Username', 'Salary', 'Age', 'Location'])\n",
      "Username\n",
      "Salary\n",
      "Age\n",
      "Location\n"
     ]
    }
   ],
   "source": [
    "print(\"my_dictionary_6.keys() :\", my_dictionary_6.keys())\n",
    "\n",
    "for k in my_dictionary_6.keys():\n",
    "    print(k)"
   ]
  },
  {
   "cell_type": "code",
   "execution_count": 65,
   "metadata": {},
   "outputs": [
    {
     "name": "stdout",
     "output_type": "stream",
     "text": [
      "my_dictionary_6.values() dict_values(['adam.smith', 9500, 45, 'New York'])\n",
      "adam.smith\n",
      "9500\n",
      "45\n",
      "New York\n"
     ]
    }
   ],
   "source": [
    "print(\"my_dictionary_6.values() :\", my_dictionary_6.values())\n",
    "\n",
    "for k in my_dictionary_6.values():\n",
    "    print(k)"
   ]
  },
  {
   "cell_type": "code",
   "execution_count": 66,
   "metadata": {},
   "outputs": [
    {
     "name": "stdout",
     "output_type": "stream",
     "text": [
      "my_dictionary_6.values() : dict_items([('Username', 'adam.smith'), ('Salary', 9500), ('Age', 45), ('Location', 'New York')])\n",
      "Username : adam.smith\n",
      "Salary : 9500\n",
      "Age : 45\n",
      "Location : New York\n"
     ]
    }
   ],
   "source": [
    "print(\"my_dictionary_6.items() :\", my_dictionary_6.items())\n",
    "\n",
    "for k,v in my_dictionary_6.items():\n",
    "    print(k, \":\", v)"
   ]
  },
  {
   "cell_type": "code",
   "execution_count": 68,
   "metadata": {},
   "outputs": [
    {
     "name": "stdout",
     "output_type": "stream",
     "text": [
      "list(my_dictionary_6) : ['Username', 'Salary', 'Age', 'Location']\n",
      "list(my_dictionary_6.values()) : ['adam.smith', 9500, 45, 'New York']\n"
     ]
    }
   ],
   "source": [
    "print(\"list(my_dictionary_6) :\", list(my_dictionary_6))\n",
    "print(\"list(my_dictionary_6.values()) :\", list(my_dictionary_6.values()))"
   ]
  },
  {
   "cell_type": "code",
   "execution_count": 69,
   "metadata": {},
   "outputs": [
    {
     "name": "stdout",
     "output_type": "stream",
     "text": [
      "len(my_dictionary_6) : 4\n"
     ]
    }
   ],
   "source": [
    "print(\"len(my_dictionary_6) :\", len(my_dictionary_6))"
   ]
  },
  {
   "cell_type": "code",
   "execution_count": 71,
   "metadata": {},
   "outputs": [
    {
     "name": "stdout",
     "output_type": "stream",
     "text": [
      "Is 'Country' in my_dictionary_6?  False\n",
      "Is 'Username' in my_dictionary_6?  True\n",
      "Is 'Name' NOT in my_dictionary_6?  True\n"
     ]
    }
   ],
   "source": [
    "print(\"Is 'Country' in my_dictionary_6? \", \"Country\" in my_dictionary_6)\n",
    "print(\"Is 'Username' in my_dictionary_6? \", \"Username\" in my_dictionary_6)\n",
    "print(\"Is 'Name' NOT in my_dictionary_6? \", \"Name\" not in my_dictionary_6)"
   ]
  },
  {
   "cell_type": "code",
   "execution_count": 72,
   "metadata": {},
   "outputs": [
    {
     "name": "stdout",
     "output_type": "stream",
     "text": [
      "Is my_dictionary_6 cleaned?  {}\n"
     ]
    }
   ],
   "source": [
    "my_dictionary_6.clear()\n",
    "print(\"my_dictionary_6.clear(): \", my_dictionary_6)"
   ]
  },
  {
   "cell_type": "code",
   "execution_count": 75,
   "metadata": {},
   "outputs": [
    {
     "name": "stdout",
     "output_type": "stream",
     "text": [
      "my_dictionary_6.update():  {'Name': 'Python Science', 'Age': 1, 'Salary': 0, 'Location': 'Heaven'}\n"
     ]
    }
   ],
   "source": [
    "my_temp_dict = {\"Name\":\"Python Science\", \"Age\": 1, \"Salary\": 0, \"Location\":\"Heaven\"}\n",
    "my_dictionary_6.update(my_temp_dict)\n",
    "print(\"my_dictionary_6.update(): \", my_dictionary_6)"
   ]
  },
  {
   "cell_type": "code",
   "execution_count": 77,
   "metadata": {},
   "outputs": [
    {
     "name": "stdout",
     "output_type": "stream",
     "text": [
      "7600160 and 7600160 and 126032264\n",
      "my_dictionary_6 : {'Name': 'Python Science', 'Age': 1, 'Salary': 0, 'Location': 'Heaven', 'CountryID': 3}\n",
      "my_dictionary_7 : {'Name': 'Python Science', 'Age': 1, 'Salary': 0, 'Location': 'Heaven', 'CountryID': 3}\n",
      "my_dictionary_8 : {'Name': 'Python Science', 'Age': 1, 'Salary': 0, 'Location': 'Heaven', 'CountryID': 3}\n"
     ]
    }
   ],
   "source": [
    "my_dictionary_7 = my_dictionary_6\n",
    "my_dictionary_8 = my_dictionary_6.copy()\n",
    "print(id(my_dictionary_7), \"and\", id(my_dictionary_6), \"and\", id(my_dictionary_8))\n",
    "\n",
    "my_dictionary_6.update(CountryID=3)\n",
    "print(\"my_dictionary_6 :\", my_dictionary_6)\n",
    "print(\"my_dictionary_7 :\", my_dictionary_7)\n",
    "print(\"my_dictionary_8 :\", my_dictionary_8)"
   ]
  },
  {
   "cell_type": "markdown",
   "metadata": {},
   "source": [
    "### Ordering Dictionaries\n",
    "1 - In Python core dictionaries cannot be ordered but can be reversed using <code>reversed(my_dictionary)</code> or <code>reversed(my_dictionary.values())</code>\n",
    "\n",
    "2 - If need to order dictionaries use <code>from collections import OrderedDict</code> method import and use it as <code>OrderedDict(my_dictionary.items())</code>"
   ]
  },
  {
   "cell_type": "code",
   "execution_count": 80,
   "metadata": {},
   "outputs": [
    {
     "name": "stdout",
     "output_type": "stream",
     "text": [
      "CountryID\n",
      "Location\n",
      "Salary\n",
      "Age\n",
      "Name\n"
     ]
    }
   ],
   "source": [
    "reversed(my_dictionary_7)\n",
    "reversed(my_dictionary_7.values())\n",
    "\n",
    "for rk in reversed(my_dictionary_7):\n",
    "    print(rk)"
   ]
  },
  {
   "cell_type": "markdown",
   "metadata": {},
   "source": [
    "### Set operations with dictionary keys\n",
    "1 - You can find common key(s) with a set of keys. Using <code>my_dictionary.keys() & {key_1, key_2, ...}</code> returns a set with common key(s) in my_dictionary and in the given set.\n",
    "\n",
    "2 - You can find intersect difference of keys and a set of keys. Using <code>my_dictionary.keys() ^ {key_1, key_2, ...}</code> returns a set with unique in both my_dictionary and given set.\n",
    "\n",
    "3 - You can find union of keys and a set of keys. Using <code>my_dictionary.keys() | {key_1, key_2, ...}</code> returns a set with union of two sets."
   ]
  },
  {
   "cell_type": "code",
   "execution_count": 91,
   "metadata": {},
   "outputs": [
    {
     "name": "stdout",
     "output_type": "stream",
     "text": [
      "my_dictionary_7.keys() : dict_keys(['Name', 'Age', 'Salary', 'Location', 'CountryID'])\n",
      "\r\n",
      "\n",
      "'&' operation : {'Name'}\n",
      "'^' operation : {'Salary', 'Data', 'Location', 'Age', 'CountryID', 'Thumbnail'}\n",
      "'|' operation : {'Name', 'Salary', 'Data', 'Location', 'Age', 'CountryID', 'Thumbnail'}\n"
     ]
    }
   ],
   "source": [
    "print(\"my_dictionary_7.keys() :\", my_dictionary_7.keys())\n",
    "\n",
    "print(\"\\r\\n\")\n",
    "\n",
    "print(\"'&' operation :\", my_dictionary_7.keys() & {\"Name\", \"Data\", \"Thumbnail\"})\n",
    "print(\"'^' operation :\", my_dictionary_7.keys() ^ {\"Name\", \"Data\", \"Thumbnail\"})\n",
    "print(\"'|' operation :\", my_dictionary_7.keys() | {\"Name\", \"Data\", \"Thumbnail\"})"
   ]
  },
  {
   "cell_type": "code",
   "execution_count": null,
   "metadata": {},
   "outputs": [],
   "source": []
  }
 ],
 "metadata": {
  "kernelspec": {
   "display_name": "Python 3",
   "language": "python",
   "name": "python3"
  },
  "language_info": {
   "codemirror_mode": {
    "name": "ipython",
    "version": 3
   },
   "file_extension": ".py",
   "mimetype": "text/x-python",
   "name": "python",
   "nbconvert_exporter": "python",
   "pygments_lexer": "ipython3",
   "version": "3.8.2"
  }
 },
 "nbformat": 4,
 "nbformat_minor": 4
}
