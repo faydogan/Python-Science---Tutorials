{
 "cells": [
  {
   "cell_type": "markdown",
   "metadata": {
    "slideshow": {
     "slide_type": "slide"
    }
   },
   "source": [
    "# LISTS IN PYTHON\n",
    "\n",
    "List is a sequence data type in Python. Lists are probably the most common data type, which you are gonna use while coding.\n",
    "\n",
    "You may remember Arrays from other programming languages. In Python, we have array type defined under NumPy module for arithmetic operations with scalars. Lists and arrays are quite similar the differences are:\n",
    "<ul>\n",
    "    <li>Lists can contain different data types, while Arrays must contain same data type only</li>\n",
    "    <li>Arrays are useful for applying artihmetic operations to all elements via method, while Lists doesn't have those methods</li>\n",
    "</ul>\n",
    "\n",
    "### Lists have some properties:\n",
    "<ul>\n",
    "<li>Lists are ordered and iterable, elements are reachble by index</li>\n",
    "<li>Lists can contain any data type/object.</li>\n",
    "<li>Lists can be used as nested 1-D, 2-D, 3-D, etc.</li>\n",
    "<li>Lists are mutable, they are changeable.</li>\n",
    "<li>Lists are dynamic, add/insert/remove operations can be done to resize lists.</li>\n",
    "</ul>"
   ]
  },
  {
   "cell_type": "markdown",
   "metadata": {},
   "source": [
    "### 1 - LET'S DEFINE SOME LISTS\n",
    "You can define an empty list using:"
   ]
  },
  {
   "cell_type": "code",
   "execution_count": null,
   "metadata": {},
   "outputs": [],
   "source": [
    "empty_list = []\n",
    "empty_list_2 = list()\n",
    "print(\"Type of []:\", type(empty_list))\n",
    "print(\"Type of list():\", type(empty_list_2))"
   ]
  },
  {
   "cell_type": "markdown",
   "metadata": {},
   "source": [
    "If you wanna define a list with some initial values, you must use '[]' notation:\n",
    "<ul>\n",
    "    <li><b>USE:</b><br>some_list = [\"str_value\", 5, 9.5, ...] <i style='color:green;'># Result will be a list</i></li>\n",
    "    <li><b>DON'T USE:</b><br>some_list = list(\"str_value\", 5, 9.5, ...) <i style='color:red;'># Throws an error </i></li>\n",
    "</ul>"
   ]
  },
  {
   "cell_type": "markdown",
   "metadata": {},
   "source": [
    "### Define 1-D Lists\n",
    "Lists can contain same or mixed data types. There two examples below."
   ]
  },
  {
   "cell_type": "code",
   "execution_count": null,
   "metadata": {},
   "outputs": [],
   "source": [
    "my_list = [5, 4, 8, 7, 1, 2, 3, 9, 6]    \n",
    "print(\"Same data type  :\", my_list)\n",
    "\n",
    "my_mixed_list = [1, \"python\", 2.3, \"4\", \"science\"] \n",
    "print(\"Mixed data type :\", my_mixed_list)"
   ]
  },
  {
   "cell_type": "markdown",
   "metadata": {},
   "source": [
    "### Define 2-D, 3-D, Multi-Dimentional Lists\n",
    "Lists can have arbitrary depth for dimentions.<br>\n",
    "Rows can have different legths."
   ]
  },
  {
   "cell_type": "code",
   "execution_count": null,
   "metadata": {},
   "outputs": [],
   "source": [
    "my_2d_list = [[45, \"Bread\"],[\"Milk\", 2, 5.46], [\"T-Bone\", 3.45], [0.5, \"Br\", \"DH\", \"QD\"]] \n",
    "print(\"2-D List :\", my_2d_list)\n",
    "print(\"Pick and element from 2D list (my_2d_list[3][2]) :\", my_2d_list[3][2])\n",
    "print(\"\\r\\n\")\n",
    "\n",
    "my_3d_list = [\n",
    "    [\"Having single element\"],\n",
    "    [[45, \"Bread\"],[\"Milk\", 2], [\"T-Bone\", 3.45], [0.5, \"Br\"]],\n",
    "    [[2.3, \"IS\"], [\"AR\", 56]]\n",
    "]\n",
    "print(\"3-D List :\", my_3d_list)\n",
    "print(\"Pick and element from 3D list (my_3d_list[1][2][0]) :\", my_3d_list[1][2][0])"
   ]
  },
  {
   "cell_type": "markdown",
   "metadata": {},
   "source": [
    "### String Chars to Lists\n",
    "It is possible to convert a string to a list, which contains all characters as elements."
   ]
  },
  {
   "cell_type": "code",
   "execution_count": null,
   "metadata": {},
   "outputs": [],
   "source": [
    "my_string = \"This string is a list!\" \n",
    "my_str_list = list(my_string)\n",
    "print(\"String to list type is :\\r\\n\", type(my_str_list))\n",
    "print(\"String to list elements :\\r\\n\", my_str_list)"
   ]
  },
  {
   "cell_type": "markdown",
   "metadata": {},
   "source": [
    "## LIST DATA TYPE - METHODS\n",
    "In Python, functions called as methods. Using list data type as a collection in Python will provide us plenty of methods to make operations on list variables. The most common of these methods are:\n",
    "<table>\n",
    "    <tr><td  style='text-align:left;'><b>list.append(x)</b></td><td  style='text-align:left;'>:</td><td  style='text-align:left;'> Adds <em style='color:red;'>a new element</em> at the end of list variable with the value of 'x'.</td></tr>\n",
    "    <tr><td  style='text-align:left;'><b>list.extend(some_collection)</b></td><td  style='text-align:left;'>:</td><td  style='text-align:left;'> Adds <em style='color:red;'>all the elements inside 'some_collection'</em> at the end of list, one by one </td></tr>\n",
    "    <tr><td  style='text-align:left;'><b>list.insert(i,x)</b></td><td  style='text-align:left;'>:</td><td  style='text-align:left;'> Adds the value of 'x' at i th index in list and shift all right side indexes by 1.</td></tr>\n",
    "    <tr><td  style='text-align:left;'><b>list.remove(x)</b></td><td  style='text-align:left;'>:</td><td  style='text-align:left;'> Remove the first occurance of value of 'x' list variable.</td></tr>\n",
    "    <tr><td  style='text-align:left;'><b>list.pop()</b></td><td  style='text-align:left;'>:</td><td  style='text-align:left;'> Remove last element from list variable, and return its value.<br><b>list.pop(i)</b>:Remove i th element from list variable, and return its value.</td></tr>\n",
    "    <tr><td  style='text-align:left;'><b>list.clear()</b></td><td  style='text-align:left;'>:</td><td  style='text-align:left;'> Clears out all elements same with del list[:].</td></tr>\n",
    "    <tr><td  style='text-align:left;'><b>list.index(x, start*, end*)</b></td><td  style='text-align:left;'>:</td><td  style='text-align:left;'> Search for 'x' value in list and returns its index.<em style='color:gray;'>You can specify start and/or end position for search operation</em></td></tr>\n",
    "    <tr><td  style='text-align:left;'><b>list.count(x)</b></td><td  style='text-align:left;'>:</td><td  style='text-align:left;'> Returns the number of occurances of 'x' in list variable.</td></tr>\n",
    "    <tr><td  style='text-align:left;'><b>list.sort()</b></td><td  style='text-align:left;'>:</td><td  style='text-align:left;'> Sorts list <em style='color:red;'>if all elements are in the same type</em>.</td></tr>\n",
    "    <tr><td  style='text-align:left;'><b>list.reverse()</b></td><td  style='text-align:left;'>:</td><td  style='text-align:left;'> Returns the reversed ordered list.</td></tr>\n",
    "    <tr><td  style='text-align:left;'><b>list.copy()</b></td><td  style='text-align:left;'>:</td><td  style='text-align:left;'> Returns a shadow copy of list, <em style='color:red;'>list_2 = list_1 will only copy the refernce</em>.</td></tr>\n",
    "</table>\n",
    "\n",
    "#### After this section we will have some selection operations (list[::2], list[:2], etc.) on list variables. "
   ]
  },
  {
   "cell_type": "markdown",
   "metadata": {},
   "source": [
    "#### .append(x) Method - Example"
   ]
  },
  {
   "cell_type": "code",
   "execution_count": null,
   "metadata": {
    "slideshow": {
     "slide_type": "subslide"
    }
   },
   "outputs": [],
   "source": [
    "empyt_list = list()\n",
    "for x in range(1,10):\n",
    "    empty_list.append(x)\n",
    "    print(\"Iteration number -\", str(x), \" :\", empty_list)"
   ]
  },
  {
   "cell_type": "markdown",
   "metadata": {},
   "source": [
    "#### .extend(some_collection) Method - Example"
   ]
  },
  {
   "cell_type": "code",
   "execution_count": null,
   "metadata": {},
   "outputs": [],
   "source": [
    "list_1 = [\"NYC\", 216, 3.5, None, \"Default\"]\n",
    "list_2 = [\"Hello\", 10, 2.5]\n",
    "\n",
    "list_1.append(list_2)\n",
    "print(\"list_1.append(list_2) :\", list_1)\n",
    "\n",
    "\n",
    "list_1 = [\"NYC\", 216, 3.5, None, \"Default\"]\n",
    "list_2 = [\"Hello\", 10, 2.5]\n",
    "\n",
    "list_1.extend(list_2)\n",
    "print(\"list_1.extend(list_2) :\", list_1)\n"
   ]
  },
  {
   "cell_type": "markdown",
   "metadata": {},
   "source": [
    "#### .insert(index, value) Method - Example"
   ]
  },
  {
   "cell_type": "code",
   "execution_count": null,
   "metadata": {},
   "outputs": [],
   "source": [
    "list_3 = [1, 2, 3]\n",
    "\n",
    "list_3.insert(1, \"Hello\")\n",
    "print(list_3)\n",
    "\n",
    "list_3.insert(-2, 3.4)\n",
    "print(list_3)\n",
    "\n",
    "list_3.insert(list_3.index(3), None)\n",
    "print(list_3)"
   ]
  },
  {
   "cell_type": "markdown",
   "metadata": {},
   "source": [
    "#### .remove(x) Method - Example"
   ]
  },
  {
   "cell_type": "code",
   "execution_count": null,
   "metadata": {},
   "outputs": [],
   "source": [
    "list_4 = [1, 2, 2.4, \"Hello\"]\n",
    "\n",
    "list_4.remove(\"Hello\")\n",
    "print(\"Remove 'Hello' :\", list_4)\n",
    "\n",
    "list_4.remove(2)\n",
    "print(\"Remove '2' :\", list_4)"
   ]
  },
  {
   "cell_type": "markdown",
   "metadata": {},
   "source": [
    "#### .pop() / .pop(index) Method - Example"
   ]
  },
  {
   "cell_type": "code",
   "execution_count": null,
   "metadata": {},
   "outputs": [],
   "source": [
    "list_5 = [\"Hello\", \"Adam\", \"It's\", 2, \"PM\"]\n",
    "\n",
    "last_element = list_5.pop()\n",
    "print(\"Pop last element :\", last_element, \"       Final List :\", list_5)\n",
    "\n",
    "last_element = list_5.pop(1)\n",
    "print(\"Pop i th element :\", last_element, \"    Final List :\", list_5)"
   ]
  },
  {
   "cell_type": "markdown",
   "metadata": {},
   "source": [
    "#### .clear() Method - Example"
   ]
  },
  {
   "cell_type": "code",
   "execution_count": null,
   "metadata": {},
   "outputs": [],
   "source": [
    "list_6 = [1, 2, 3]\n",
    "list_6.clear()\n",
    "print(\"Type:\", type(list_6), \"Cleared List:\", list_6)"
   ]
  },
  {
   "cell_type": "markdown",
   "metadata": {},
   "source": [
    "#### .index(x, start*, end*) Method - Example"
   ]
  },
  {
   "cell_type": "code",
   "execution_count": null,
   "metadata": {},
   "outputs": [],
   "source": [
    "list_7 = [1, 2, 3.4, \"Banana\", \"Apple Pie\"]\n",
    "print(\"Index of 'Banana' :\", list_7.index(\"Banana\"))\n",
    "print(\"Index of 'Banana' (search start from index 3) :\", list_7.index(\"Banana\", 3))\n",
    "print(\"Index of 'Apple Pie' (search start from index 1 end at 5) :\", list_7.index(\"Apple Pie\", 1, 5)) # [start, end)"
   ]
  },
  {
   "cell_type": "markdown",
   "metadata": {},
   "source": [
    "#### .count(x) Method - Example"
   ]
  },
  {
   "cell_type": "code",
   "execution_count": null,
   "metadata": {},
   "outputs": [],
   "source": [
    "list_8 = [1, 2, 1, 1, 1.2, \"1\"]\n",
    "print(\"Count '1' in list :\", list_8.count(1))\n",
    "print(\"Count str '1' in list :\", list_8.count(\"1\"))"
   ]
  },
  {
   "cell_type": "markdown",
   "metadata": {},
   "source": [
    "#### .sort() Method - Example"
   ]
  },
  {
   "cell_type": "code",
   "execution_count": null,
   "metadata": {},
   "outputs": [],
   "source": [
    "# SORT METHOD NEEDS ALL ELEMENT WITH THE SAME DATA TYPE (int, float, str, etc.)\n",
    "list_9 = [1, 5, 9, 4, 6, 3]\n",
    "list_9.sort()\n",
    "print(\"Sorted [int] list\", list_9)\n",
    "\n",
    "list_9 = [\"Hello\", \"Everyone\", \"Welcome\", \"to\", \"Python\", \"Science\"]\n",
    "list_9.sort()\n",
    "print(\"Sorted [str] list\", list_9)\n",
    "\n",
    "#Some trouble with lower and upper case letters\n",
    "str_list = list(\"PythonSciencep\")\n",
    "str_list.sort()\n",
    "print(\"Sorted [letter] list\", str_list)\n",
    "\n",
    "#So, we have a solution with 'key' argument of sort method\n",
    "str_list = list(\"PythonSciencep\")\n",
    "str_list.sort(key=str.lower)\n",
    "print(\"Sorted [letter] list\", str_list)"
   ]
  },
  {
   "cell_type": "markdown",
   "metadata": {},
   "source": [
    "#### .reverse() Method - Example"
   ]
  },
  {
   "cell_type": "code",
   "execution_count": null,
   "metadata": {},
   "outputs": [],
   "source": [
    "list_10 = [\"a\", \"b\", \"c\", \"d\", 3, None, 4.5]\n",
    "list_10.reverse()\n",
    "print(\"Reversed list :\", list_10)"
   ]
  },
  {
   "cell_type": "markdown",
   "metadata": {},
   "source": [
    "#### .copy() Method - Example"
   ]
  },
  {
   "cell_type": "code",
   "execution_count": null,
   "metadata": {},
   "outputs": [],
   "source": [
    "list_11 = [1,2,3,4,5]\n",
    "list_12 = list_11\n",
    "print(\"Memory Address of 'list_11'\", id(list_11), \"Memory Address of 'list_12'\", id(list_12))\n",
    "list_11.append(\"Hello\")\n",
    "print(\"list_11 :\", list_11)\n",
    "print(\"list_12 :\", list_12)\n",
    "\n",
    "print(\"\\r\\n\")\n",
    "\n",
    "list_13 = list_11.copy()\n",
    "print(\"Memory Address of 'list_11'\", id(list_11), \"Memory Address of 'list_13'\", id(list_13))\n",
    "list_11.append(\"Python Science\")\n",
    "print(\"list_11 :\", list_11)\n",
    "print(\"list_13 :\", list_13)"
   ]
  },
  {
   "cell_type": "markdown",
   "metadata": {},
   "source": [
    "## BONUS PARTS - Common Sequence Operations in Python"
   ]
  },
  {
   "cell_type": "markdown",
   "metadata": {},
   "source": [
    "### 1 - List Slicing\n",
    "In Python, you can slice or select part of list element with index operation, which are given below:\n",
    "<ol>\n",
    "    <li><b>list[i]</b> : Returns the i th element in list.</li>\n",
    "    <li><b>list[a:b]</b> : Returns the slice of list from index a to b.</li>\n",
    "    <li><b>list[a:]</b>  : Returns the slice of list from index a to end.</li>\n",
    "    <li><b>list[:b]</b>  : Returns the slice of list from index start to b.</li>\n",
    "    <li><b>list[::2]</b> : Returns the slice of list with even index numbers.</li>\n",
    "    <li><b>list[::-1]</b> : Returns the slice of list with even index numbers.</li>\n",
    "    <li><b>list[a:b:k]</b> : Returns the slice of list  from index a to b by k increment.</li>\n",
    "</ol>"
   ]
  },
  {
   "cell_type": "code",
   "execution_count": null,
   "metadata": {},
   "outputs": [],
   "source": [
    "list_14 = [1, 2, 3.4, None, \"Hello\", \"Python Science\", \"5\", 43]\n",
    "print(\"list_14[3] :\", list_14[3])\n",
    "print(\"list_14[3:5] :\", list_14[3:5])\n",
    "print(\"list_14[3:] :\", list_14[3:])\n",
    "print(\"list_14[:3] :\", list_14[:3])\n",
    "print(\"list_14[::2] :\", list_14[::2])  # Can use del list_14[::2] to get odd index number elements\n",
    "print(\"list_14[::-1] :\", list_14[::-1])\n",
    "print(\"list_14[1:6:3] :\", list_14[1:10:3])"
   ]
  },
  {
   "cell_type": "markdown",
   "metadata": {},
   "source": [
    "### 2 - Searching Lists in Python"
   ]
  },
  {
   "cell_type": "code",
   "execution_count": null,
   "metadata": {},
   "outputs": [],
   "source": [
    "list_15 = [1, 2, 3.4, None, \"Hello\", \"Python Science\", \"5\", \"Data\", \"Data Gathering\"]\n",
    "print(\"Is 'Data' in list_15 :\", 'Data' in list_15)\n",
    "print(\"Is 'Gathering' in list_15 :\", 'Gathering' in list_15)\n",
    "print(\"Is 'data' in list_15 :\", 'data' in list_15)\n",
    "print(\"Is '34' NOT in list_15 :\", 34 not in list_15)"
   ]
  },
  {
   "cell_type": "markdown",
   "metadata": {},
   "source": [
    "### 3 - Getting max, min and legth of list"
   ]
  },
  {
   "cell_type": "code",
   "execution_count": null,
   "metadata": {},
   "outputs": [],
   "source": [
    "list_16 = [1, 34, 567, 2, 5, 6788, 1928]\n",
    "print(\"Maximum value in list_16 :\", max(list_16))\n",
    "print(\"Minimum value in list_16 :\", min(list_16))\n",
    "print(\"The length of list_16 :\", len(list_16))"
   ]
  },
  {
   "cell_type": "code",
   "execution_count": null,
   "metadata": {},
   "outputs": [],
   "source": []
  }
 ],
 "metadata": {
  "kernelspec": {
   "display_name": "Python 3",
   "language": "python",
   "name": "python3"
  },
  "language_info": {
   "codemirror_mode": {
    "name": "ipython",
    "version": 3
   },
   "file_extension": ".py",
   "mimetype": "text/x-python",
   "name": "python",
   "nbconvert_exporter": "python",
   "pygments_lexer": "ipython3",
   "version": "3.8.2"
  }
 },
 "nbformat": 4,
 "nbformat_minor": 4
}
