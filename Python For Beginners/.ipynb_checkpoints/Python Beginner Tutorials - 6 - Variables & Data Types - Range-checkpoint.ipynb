{
 "cells": [
  {
   "cell_type": "markdown",
   "metadata": {},
   "source": [
    "## RANGE in PYTHON\n",
    "\n",
    "The range data type is an immutable sequence of numbers.\n",
    "It is commonly used for looping a specific number of times in for loops.\n",
    "\n",
    "There are three forms of range data type that you can use to intialize range variable:\n",
    "<ol>\n",
    "    <li><b>range(stop) :</b>Returns a range object 0 to stop. The 'stop' must be integer.</li>\n",
    "    <li><b>range(start, stop) :</b>Returns a range object 'start' to 'stop'. The 'start' and 'stop' must be integers.</li>\n",
    "    <li><b>range(start, stop, step) :</b>Returns a range object 'start' to 'stop' by 'step'. The 'start', 'stop' and 'step' must be integers.</li>\n",
    "</ol>\n"
   ]
  },
  {
   "cell_type": "code",
   "execution_count": 1,
   "metadata": {},
   "outputs": [],
   "source": [
    "range_with_stop = range(5)\n",
    "range_with_start = range(2, 5)\n",
    "range_with_step = range(2, 12, 2)"
   ]
  },
  {
   "cell_type": "code",
   "execution_count": 2,
   "metadata": {},
   "outputs": [
    {
     "name": "stdout",
     "output_type": "stream",
     "text": [
      "range(0, 5)\n",
      "0\n",
      "1\n",
      "2\n",
      "3\n",
      "4\n"
     ]
    }
   ],
   "source": [
    "print(range_with_stop)\n",
    "for i in range_with_stop:\n",
    "    print(i)"
   ]
  },
  {
   "cell_type": "code",
   "execution_count": 3,
   "metadata": {},
   "outputs": [
    {
     "name": "stdout",
     "output_type": "stream",
     "text": [
      "range(2, 5)\n",
      "2\n",
      "3\n",
      "4\n"
     ]
    }
   ],
   "source": [
    "print(range_with_start)\n",
    "for i in range_with_start:\n",
    "    print(i)"
   ]
  },
  {
   "cell_type": "code",
   "execution_count": 4,
   "metadata": {},
   "outputs": [
    {
     "name": "stdout",
     "output_type": "stream",
     "text": [
      "range(2, 12, 2)\n",
      "2\n",
      "4\n",
      "6\n",
      "8\n",
      "10\n"
     ]
    }
   ],
   "source": [
    "print(range_with_step)\n",
    "for i in range_with_step:\n",
    "    print(i)"
   ]
  },
  {
   "cell_type": "markdown",
   "metadata": {},
   "source": [
    "### Methods for Range"
   ]
  },
  {
   "cell_type": "code",
   "execution_count": 5,
   "metadata": {},
   "outputs": [
    {
     "name": "stdout",
     "output_type": "stream",
     "text": [
      "Start : 2\n",
      "Stop : 12\n",
      "Step : 2\n",
      "Count : 1\n",
      "Index : 2\n",
      "As a List : [2, 4, 6, 8, 10]\n"
     ]
    }
   ],
   "source": [
    "print(\"Start :\", range_with_step.start)\n",
    "print(\"Stop :\", range_with_step.stop)\n",
    "print(\"Step :\", range_with_step.step)\n",
    "print(\"Count :\", range_with_step.count(6))\n",
    "print(\"Index :\", range_with_step.index(6))\n",
    "print(\"As a List :\", list(range_with_step))"
   ]
  },
  {
   "cell_type": "code",
   "execution_count": 6,
   "metadata": {},
   "outputs": [
    {
     "name": "stdout",
     "output_type": "stream",
     "text": [
      "range_with_step[3] : 8\n",
      "range_with_step[3:5] : range(8, 12, 2) <class 'range'>\n"
     ]
    }
   ],
   "source": [
    "print(\"range_with_step[3] :\", range_with_step[3])\n",
    "print(\"range_with_step[3:5] :\", range_with_step[3:5], type(range_with_step[3:5]))"
   ]
  },
  {
   "cell_type": "code",
   "execution_count": null,
   "metadata": {},
   "outputs": [],
   "source": []
  }
 ],
 "metadata": {
  "kernelspec": {
   "display_name": "Python 3",
   "language": "python",
   "name": "python3"
  },
  "language_info": {
   "codemirror_mode": {
    "name": "ipython",
    "version": 3
   },
   "file_extension": ".py",
   "mimetype": "text/x-python",
   "name": "python",
   "nbconvert_exporter": "python",
   "pygments_lexer": "ipython3",
   "version": "3.8.2"
  }
 },
 "nbformat": 4,
 "nbformat_minor": 4
}
