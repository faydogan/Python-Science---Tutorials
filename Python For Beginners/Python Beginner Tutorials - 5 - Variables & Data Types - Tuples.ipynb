{
 "cells": [
  {
   "cell_type": "markdown",
   "metadata": {},
   "source": [
    "## TUPLES IN PYTHON\n",
    "Tuples are immutable sequences, can be used to store heterogeneous or homogeneous data in tuples. \n",
    "\n",
    "There two advantages of tuples with respect to lists:\n",
    "<ol>\n",
    "    <li>Tuples use less memory than lists.</li>\n",
    "    <li>Tuples can be used as keys in dictionaries</li>\n",
    "</ol>\n",
    "\n",
    "<b style='color:red;'>WARNINGS:</b>\n",
    "<ul>\n",
    "    <li>Tuple elements cannot be replaced, removed.</li>\n",
    "    <li>New elements/items cannot be added to Tuples.</li>\n",
    "    <li>Tuples cannot be sorted, it is going to be in the order which is given at compile time.</li>\n",
    "</ul>\n",
    "\n",
    "#### Why do we need tuples (PERFORMANCE):\n",
    "<ul>\n",
    "    <li>Tuples are useful for small immutable lists like constants, menu items, etc.</li>\n",
    "    <li>Tuples are very useful to return multiple results from a function/method. Also can be used as a single argument to pass multiple varaibles into a function/method.</li>\n",
    "</ul>\n",
    "\n",
    "### 1 - Define Tuples in Python\n",
    "There are three ways to initialize tuples in Python.\n",
    "<ol>\n",
    "    <li>my_tuple = a, b, c, ...</li>\n",
    "    <li>my_tuple = (a, b, c, ..)</li>\n",
    "    <li>my_tuple = tuple(<i>iterable*</i>)</li>\n",
    "</ol>\n",
    "<em>* iterable means some list, set, range or string variable</em>"
   ]
  },
  {
   "cell_type": "code",
   "execution_count": 1,
   "metadata": {},
   "outputs": [],
   "source": [
    "my_tuple = 1, 2, 3, \"Adam\", 4.3, None\n",
    "my_tuple_2 = (1, 2, 3, \"Adam\", 4.3, None)\n",
    "my_string = \"Welcome to Python Science\"\n",
    "my_tuple_3 = tuple(my_string)\n",
    "my_list = [1, 2, 3, \"Adam\", 4.3, None]\n",
    "my_tuple_4 = tuple(my_list)"
   ]
  },
  {
   "cell_type": "code",
   "execution_count": 2,
   "metadata": {},
   "outputs": [
    {
     "name": "stdout",
     "output_type": "stream",
     "text": [
      "my_tuple, \r\n",
      "type : <class 'tuple'> \r\n",
      "Value : (1, 2, 3, 'Adam', 4.3, None)\n"
     ]
    }
   ],
   "source": [
    "print(\"my_tuple, \\r\\ntype :\", type(my_tuple), \"\\r\\nValue :\", my_tuple)"
   ]
  },
  {
   "cell_type": "code",
   "execution_count": 3,
   "metadata": {},
   "outputs": [
    {
     "name": "stdout",
     "output_type": "stream",
     "text": [
      "my_tuple_2, \r\n",
      "type : <class 'tuple'> \r\n",
      "Value : (1, 2, 3, 'Adam', 4.3, None)\n"
     ]
    }
   ],
   "source": [
    "print(\"my_tuple_2, \\r\\ntype :\", type(my_tuple_2), \"\\r\\nValue :\", my_tuple_2)"
   ]
  },
  {
   "cell_type": "code",
   "execution_count": 4,
   "metadata": {},
   "outputs": [
    {
     "name": "stdout",
     "output_type": "stream",
     "text": [
      "my_tuple_3, \r\n",
      "type : <class 'tuple'> \r\n",
      "Value : ('W', 'e', 'l', 'c', 'o', 'm', 'e', ' ', 't', 'o', ' ', 'P', 'y', 't', 'h', 'o', 'n', ' ', 'S', 'c', 'i', 'e', 'n', 'c', 'e')\n"
     ]
    }
   ],
   "source": [
    "print(\"my_tuple_3, \\r\\ntype :\", type(my_tuple_3), \"\\r\\nValue :\", my_tuple_3)"
   ]
  },
  {
   "cell_type": "code",
   "execution_count": 5,
   "metadata": {},
   "outputs": [
    {
     "name": "stdout",
     "output_type": "stream",
     "text": [
      "my_tuple_4, \r\n",
      "type : <class 'tuple'> \r\n",
      "Value : (1, 2, 3, 'Adam', 4.3, None)\n"
     ]
    }
   ],
   "source": [
    "print(\"my_tuple_4, \\r\\ntype :\", type(my_tuple_4), \"\\r\\nValue :\", my_tuple_4)"
   ]
  },
  {
   "cell_type": "code",
   "execution_count": 6,
   "metadata": {},
   "outputs": [
    {
     "name": "stdout",
     "output_type": "stream",
     "text": [
      "my_tuple[2] 3\n",
      "my_tuple[2:4] (3, 'Adam') Type is <class 'tuple'>\n",
      "my_tuple[::2] (1, 3, 4.3) Type is <class 'tuple'>\n"
     ]
    }
   ],
   "source": [
    "print(\"my_tuple[2]\", my_tuple[2])\n",
    "print(\"my_tuple[2:4]\", my_tuple[2:4], \"Type is\", type(my_tuple[2:4]))\n",
    "print(\"my_tuple[::2]\", my_tuple[::2], \"Type is\", type(my_tuple[::2]))"
   ]
  },
  {
   "cell_type": "markdown",
   "metadata": {},
   "source": [
    "### 2 - Methods on Tuples\n",
    "<ul>\n",
    "    <li><b>my_tuple.count(x)</b> -> Counts the occurance of 'x' value in tuple.</li>\n",
    "    <li><b>my_tuple.index(x)</b> -> Returns the index of first occurance of 'x' value in tuple.</li>\n",
    "</ul>"
   ]
  },
  {
   "cell_type": "code",
   "execution_count": 7,
   "metadata": {},
   "outputs": [],
   "source": [
    "my_tuple_5 = (5, 5.7, \"5\", 55, 105, 5, None)"
   ]
  },
  {
   "cell_type": "code",
   "execution_count": 8,
   "metadata": {},
   "outputs": [
    {
     "name": "stdout",
     "output_type": "stream",
     "text": [
      "Count(5) : 2\n"
     ]
    }
   ],
   "source": [
    "print(\"Count(5) :\", my_tuple_5.count(5))"
   ]
  },
  {
   "cell_type": "code",
   "execution_count": 9,
   "metadata": {},
   "outputs": [
    {
     "name": "stdout",
     "output_type": "stream",
     "text": [
      "Index(\"5\") : 2\n"
     ]
    }
   ],
   "source": [
    "print(\"Index(\\\"5\\\") :\", my_tuple_5.index(\"5\"))\n",
    "# You can use \"\\\" for escape chracter, like we escape from double-quotes here"
   ]
  },
  {
   "cell_type": "markdown",
   "metadata": {},
   "source": [
    "### 3 - Combining tuples into nested tuples\n",
    "We cannot add new elements to tuples, but we can combine tuples into a new tuple.\n",
    "\n",
    "<em>my_new_tuple = my_tuple_1, my_tuple_2, ...</em>"
   ]
  },
  {
   "cell_type": "code",
   "execution_count": 10,
   "metadata": {},
   "outputs": [
    {
     "name": "stdout",
     "output_type": "stream",
     "text": [
      "my_comb_tuple : ((5, 9, 3.4), (None, 2.00001, 5555, 1))\n",
      "my_comb_tuple[0][1] : 9\n"
     ]
    }
   ],
   "source": [
    "my_tuple_6 = (None, 2.00001, 5555, 1)\n",
    "my_comb_tuple = (5, 9, 3.4), my_tuple_6\n",
    "print(\"my_comb_tuple :\", my_comb_tuple)\n",
    "print(\"my_comb_tuple[0][1] :\", my_comb_tuple[0][1])"
   ]
  },
  {
   "cell_type": "markdown",
   "metadata": {},
   "source": [
    "### Any Type of Data/Object Can Be Stored in TUPLES (likewise ALL SEQUENCE TYPES)"
   ]
  },
  {
   "cell_type": "code",
   "execution_count": 13,
   "metadata": {},
   "outputs": [
    {
     "name": "stdout",
     "output_type": "stream",
     "text": [
      "([1, 2, 4, 5, 'Data'], 'String', {'my_key': 34})\n",
      "([1, 2, 4, 5, 'Data', 'List New Value'], 'String', {'my_key': 34})\n"
     ]
    }
   ],
   "source": [
    "my_obj_tuple = ([1,2,4,5,\"Data\"], \"String\", {\"my_key\": 34}) \n",
    "print(my_obj_tuple)\n",
    "\n",
    "my_obj_tuple[0].append(\"List New Value\")\n",
    "print(my_obj_tuple)"
   ]
  },
  {
   "cell_type": "markdown",
   "metadata": {},
   "source": []
  }
 ],
 "metadata": {
  "kernelspec": {
   "display_name": "Python 3",
   "language": "python",
   "name": "python3"
  },
  "language_info": {
   "codemirror_mode": {
    "name": "ipython",
    "version": 3
   },
   "file_extension": ".py",
   "mimetype": "text/x-python",
   "name": "python",
   "nbconvert_exporter": "python",
   "pygments_lexer": "ipython3",
   "version": "3.8.2"
  }
 },
 "nbformat": 4,
 "nbformat_minor": 4
}
