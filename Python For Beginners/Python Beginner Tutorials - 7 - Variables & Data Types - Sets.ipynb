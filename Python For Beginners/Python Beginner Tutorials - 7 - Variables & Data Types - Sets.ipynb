{
 "cells": [
  {
   "cell_type": "markdown",
   "metadata": {},
   "source": [
    "## SETS in PYTHON\n",
    "\n",
    "A set object is an unordered collection of distinct hashable objects. Common uses include:\n",
    "<ul>\n",
    "    <li>Membership testing,</li>\n",
    "    <li>Removing duplicates from a sequence,</li>\n",
    "    <li>Computing mathematical operations such as intersection, union, difference, and symmetric difference.</li>\n",
    "</ul>\n",
    "    <b style='color:red;'>!!!</b> Being an unordered collection, sets do not record element position or order of insertion.\n",
    "    \n",
    "There are currently two built-in set types, <b>set</b> and <b>frozenset</b>. \n",
    "<ol>\n",
    "    <li>The <b>set</b> type is mutable — the contents can be changed using methods like add() and remove(). Since it is mutable, it has no hash value and cannot be used as either a dictionary key or as an element of another set.</li> \n",
    "    <li>The <b>frozenset</b> type is immutable and hashable — its contents cannot be altered after it is created; it can therefore be used as a dictionary key or as an element of another set.</li>\n",
    "</ol>\n",
    "\n",
    "### 1 - Define Sets and Frozensets\n",
    "<ul>\n",
    "    <li><b>set([<em>iterable</em>])</b> : returns a set object.</li>\n",
    "    <li><b>frozenset([<em>iterable</em>])</b> : returns a frozenset object.</li>\n",
    "</ul>"
   ]
  },
  {
   "cell_type": "code",
   "execution_count": 2,
   "metadata": {},
   "outputs": [
    {
     "name": "stdout",
     "output_type": "stream",
     "text": [
      "<class 'set'>\n",
      "{1, 2.3, 11, 'hello', 'Hello'}\n"
     ]
    }
   ],
   "source": [
    "my_set = {1, 2.3, \"Hello\", \"hello\", 2.3, 11}\n",
    "print(type(my_set))\n",
    "print(my_set)"
   ]
  },
  {
   "cell_type": "code",
   "execution_count": 3,
   "metadata": {},
   "outputs": [
    {
     "name": "stdout",
     "output_type": "stream",
     "text": [
      "<class 'frozenset'>\n",
      "frozenset({1, 'hello', 'Hello', 2.3, 11})\n"
     ]
    }
   ],
   "source": [
    "my_frozenset = frozenset(my_set)\n",
    "print(type(my_frozenset))\n",
    "print(my_frozenset)"
   ]
  },
  {
   "cell_type": "code",
   "execution_count": 5,
   "metadata": {},
   "outputs": [
    {
     "name": "stdout",
     "output_type": "stream",
     "text": [
      "<class 'set'>\n",
      "{1, 2.3, 11, 'hello', 'Hello'}\n",
      "[1, 2.3, 11, 'hello', 'Hello']\n"
     ]
    }
   ],
   "source": [
    "my_list_with_duplicates = [1, 2.3, \"Hello\", \"hello\", 2.3, 11]\n",
    "my_set_2 = set(my_list_with_duplicates)\n",
    "print(type(my_set_2))\n",
    "print(my_set_2)\n",
    "print(list(my_set_2))"
   ]
  },
  {
   "cell_type": "code",
   "execution_count": 6,
   "metadata": {},
   "outputs": [
    {
     "name": "stdout",
     "output_type": "stream",
     "text": [
      "String as a set: {'t', 'l', ' ', 'i', 'n', 'r', 's', 'y', 'h', 'P', 'e', 'o', 'H'}\n",
      "len(str): 16 , len(set) 13\n"
     ]
    }
   ],
   "source": [
    "my_string = \"Hello Pythoniers\"\n",
    "my_string_set = set(my_string)\n",
    "print(\"String as a set:\", my_string_set)\n",
    "print(\"len(str):\", len(my_string), \", len(set)\", len(my_string_set))"
   ]
  },
  {
   "cell_type": "code",
   "execution_count": 9,
   "metadata": {},
   "outputs": [
    {
     "name": "stdout",
     "output_type": "stream",
     "text": [
      "{1, 2.3, 11, 'hello', 'Hello', 12345}\n",
      "{1, 2.3, 11, 'hello', 'Hello'}\n",
      "{1, 2.3, 11, 'hello', 'Hello'}\n"
     ]
    }
   ],
   "source": [
    "my_set_2.add(12345)\n",
    "print(my_set_2)\n",
    "my_set_2.remove(12345)\n",
    "print(my_set_2)\n",
    "\n",
    "# .remove() method raise KeyError if given value not present in se, so use discard instead.\n",
    "my_set_2.discard(12345)\n",
    "print(my_set_2)"
   ]
  },
  {
   "cell_type": "code",
   "execution_count": 10,
   "metadata": {},
   "outputs": [
    {
     "ename": "AttributeError",
     "evalue": "'frozenset' object has no attribute 'add'",
     "output_type": "error",
     "traceback": [
      "\u001b[1;31m---------------------------------------------------------------------------\u001b[0m",
      "\u001b[1;31mAttributeError\u001b[0m                            Traceback (most recent call last)",
      "\u001b[1;32m<ipython-input-10-c4c6d120e5b6>\u001b[0m in \u001b[0;36m<module>\u001b[1;34m\u001b[0m\n\u001b[0;32m      1\u001b[0m \u001b[1;31m# !!! FROZEN SETS ARE IMMUTABLE, SO YOU CANNOT ADD/REMOVE ELEMENTS TO/FROM THEM.\u001b[0m\u001b[1;33m\u001b[0m\u001b[1;33m\u001b[0m\u001b[1;33m\u001b[0m\u001b[0m\n\u001b[1;32m----> 2\u001b[1;33m \u001b[0mmy_frozenset\u001b[0m\u001b[1;33m.\u001b[0m\u001b[0madd\u001b[0m\u001b[1;33m(\u001b[0m\u001b[1;36m12345\u001b[0m\u001b[1;33m)\u001b[0m\u001b[1;33m\u001b[0m\u001b[1;33m\u001b[0m\u001b[0m\n\u001b[0m\u001b[0;32m      3\u001b[0m \u001b[0mprint\u001b[0m\u001b[1;33m(\u001b[0m\u001b[0mmy_set_2\u001b[0m\u001b[1;33m)\u001b[0m\u001b[1;33m\u001b[0m\u001b[1;33m\u001b[0m\u001b[0m\n\u001b[0;32m      4\u001b[0m \u001b[0mmy_frozenset\u001b[0m\u001b[1;33m.\u001b[0m\u001b[0mremove\u001b[0m\u001b[1;33m(\u001b[0m\u001b[1;36m12345\u001b[0m\u001b[1;33m)\u001b[0m\u001b[1;33m\u001b[0m\u001b[1;33m\u001b[0m\u001b[0m\n\u001b[0;32m      5\u001b[0m \u001b[0mprint\u001b[0m\u001b[1;33m(\u001b[0m\u001b[0mmy_set_2\u001b[0m\u001b[1;33m)\u001b[0m\u001b[1;33m\u001b[0m\u001b[1;33m\u001b[0m\u001b[0m\n",
      "\u001b[1;31mAttributeError\u001b[0m: 'frozenset' object has no attribute 'add'"
     ]
    }
   ],
   "source": [
    "# !!! FROZEN SETS ARE IMMUTABLE, SO YOU CANNOT ADD/REMOVE ELEMENTS TO/FROM THEM.\n",
    "my_frozenset.add(12345)\n",
    "print(my_set_2)\n",
    "my_frozenset.remove(12345)\n",
    "print(my_set_2)"
   ]
  },
  {
   "cell_type": "markdown",
   "metadata": {},
   "source": [
    "### 2 - Basic Operations on Sets\n",
    "<ol>\n",
    "    <li><b>len(set_variable)</b> : Returns the size of set variable.</li>\n",
    "    <li><b>x in set_variable</b> : Returns True if x is in set variable else False.</li>\n",
    "    <li><b>x not in set_variable</b> : Returns False if x is in set variable else True.</li>\n",
    "    <li><b>set_variable.copy()</b> : Returns a shallow copy of set_variable.</li>\n",
    "    <li><b>*set_variable.pop()</b> : Takes an arbitrary element from set variable, removes it and returns its value.</li>\n",
    "    <li><b>*set_variable.clear()</b> : Truncates the set variable, defination will still be there.</li>\n",
    "</ol>\n",
    "<em>* Only available in sets, not available in frozensets.</em>"
   ]
  },
  {
   "cell_type": "code",
   "execution_count": 11,
   "metadata": {},
   "outputs": [
    {
     "name": "stdout",
     "output_type": "stream",
     "text": [
      "{1, 2.3, 11, 'hello', 'Hello'}\n",
      "The size of my_set : 5\n",
      "Is \"Hello\" in my_set : True\n",
      "Is \"Python\" not in my_set : True\n"
     ]
    }
   ],
   "source": [
    "my_set = {1, 2.3, \"Hello\", \"hello\", 2.3, 11}\n",
    "print(my_set)\n",
    "print(\"The size of my_set :\", len(my_set))\n",
    "print(\"Is \\\"Hello\\\" in my_set :\", \"Hello\" in my_set)\n",
    "print(\"Is \\\"Python\\\" not in my_set :\", \"Python\" not in my_set)"
   ]
  },
  {
   "cell_type": "code",
   "execution_count": 12,
   "metadata": {},
   "outputs": [
    {
     "name": "stdout",
     "output_type": "stream",
     "text": [
      "10366056 - 10366056\n",
      "111720680 - 10366056\n",
      "my_set: {1, 2.3, 11, 'hello', 'Hello', 'New Value'}\n",
      "my_set_new: {1, 2.3, 11, 'hello', 'Hello', 'New Value'}\n",
      "my_set_new_2: {1, 'hello', 'Hello', 2.3, 11}\n"
     ]
    }
   ],
   "source": [
    "# id() will get the memory address of a variable\n",
    "my_set_new = my_set\n",
    "print(id(my_set_new), \"-\", id(my_set))\n",
    "\n",
    "my_set_new_2 = my_set.copy()\n",
    "print(id(my_set_new_2), \"-\", id(my_set))\n",
    "\n",
    "my_set.add(\"New Value\")\n",
    "print(\"my_set:\", my_set)\n",
    "print(\"my_set_new:\", my_set_new)\n",
    "print(\"my_set_new_2:\", my_set_new_2)"
   ]
  },
  {
   "cell_type": "code",
   "execution_count": 13,
   "metadata": {},
   "outputs": [
    {
     "name": "stdout",
     "output_type": "stream",
     "text": [
      "My randomly poped element: 1\n",
      "{'Python', 'Is', 'Number', 'Data', 'For', 'Science'}\n"
     ]
    }
   ],
   "source": [
    "my_tuple = (\"Python\", \"Is\", \"Number\", 1, \"For\", \"Data\", \"Science\")\n",
    "my_set_3 = set(my_tuple)\n",
    "print(\"My randomly poped element:\", my_set_3.pop())  # Sets are not ordered, so not indexable. .pop(index) will raise error\n",
    "print(my_set_3)"
   ]
  },
  {
   "cell_type": "code",
   "execution_count": 14,
   "metadata": {},
   "outputs": [
    {
     "name": "stdout",
     "output_type": "stream",
     "text": [
      "<class 'set'> set()\n"
     ]
    }
   ],
   "source": [
    "my_set_3.clear()\n",
    "print(type(my_set_3), my_set_3)"
   ]
  },
  {
   "cell_type": "markdown",
   "metadata": {},
   "source": [
    "### 3 - Complex Operations on Sets\n",
    "You are able to make mathematical operation like disjoint, union, intersection, difference between set variables.\n",
    "\n",
    "The list of set operations avaiable in Built-in (core) Python are:\n",
    "\n",
    "<table>\n",
    "    <tr><td style='text-align:left; font-weight:900;'>set.isdisjoint(other_set)</td><td>:</td><td style='text-align:left;'>Return <b>True</b> if the set has no elements in common with other. <br>Sets are disjoint if and only if their intersection is the empty set.</td></tr>\n",
    "    <tr><td style='text-align:left; font-weight:900;'>set.issubset(other_set)</td><td>:</td><td style='text-align:left;'>Checks if every element of set is in other_set. <br>You can use <code  style='color:green;'>set <= other_set</code> or <code  style='color:green;'>set < other_set</code> to compare if set is a subset of other_set.</td></tr>\n",
    "    <tr><td style='text-align:left; font-weight:900;'>set.issuperset(other_set)</td><td>:</td><td style='text-align:left;'>Checks if every element of other_set is in set. <br>You can use <code  style='color:green;'>set >= other_set</code> or <code  style='color:green;'>set > other_set</code> to compare if set is a superset of other_set.</td></tr>\n",
    "    <tr><td style='text-align:left; font-weight:900;'>set.union(set_1, set_2, ...)</td><td>:</td><td style='text-align:left;'>Return a new set with elements from the set and all others. <br>You can use <code  style='color:green;'>set | set_1 | set_2 | ...</code></td></tr>\n",
    "    <tr><td style='text-align:left; font-weight:900;'>set.intersection(set_1, set_2, ...)</td><td>:</td><td style='text-align:left;'>Return a new set with elements common to the set and all others. <br>You can use <code  style='color:green;'>set & set_1 & set_2 & ...</code></td></tr>\n",
    "    <tr><td style='text-align:left; font-weight:900;'>set.difference(set_1, set_2, ...)</td><td>:</td><td style='text-align:left;'>Return a new set with elements in the set that are not in the others. <br>You can use <code  style='color:green;'>set - set_1 - set_2 - ...</code></td></tr>\n",
    "    <tr><td style='text-align:left; font-weight:900;'>set.symmetric_difference(other_set)</td><td>:</td><td style='text-align:left;'>Return a new set with elements in either the set or other but not both. <br>You can use <code  style='color:green;'>set ^ other_set</code></td></tr>\n",
    "    <tr><td style='text-align:left; font-weight:900;'>set.update(set_1, set_2, ...)</td><td>:</td><td style='text-align:left;'>Update the set, adding elements from all others. <br>You can use <code  style='color:green;'>set |= set_1 | set_2 | ...</code></td></tr>\n",
    "    <tr><td style='text-align:left; font-weight:900;'>set.intersection_update(set_1, set_2, ...)</td><td>:</td><td style='text-align:left;'>Update the set, keeping only elements found in it and all others. <br>You can use <code  style='color:green;'>set &= set_1 & set_2 & ...</code></td></tr>    \n",
    "    <tr><td style='text-align:left; font-weight:900;'>set.difference_update(set_1, set_2, ...)</td><td>:</td><td style='text-align:left;'>Update the set, removing elements found in others. <br>You can use <code  style='color:green;'>set -= set_1 - set_2 - ...</code></td></tr>          \n",
    "    <tr><td style='text-align:left; font-weight:900;'>set.symmetric_difference_update(other_set)</td><td>:</td><td style='text-align:left;'>Update the set, keeping only elements found in either set, but not in both. <br>You can use <code  style='color:green;'>set ^= other_set</code></td></tr>    \n",
    "</table>\n"
   ]
  },
  {
   "cell_type": "code",
   "execution_count": 15,
   "metadata": {},
   "outputs": [
    {
     "name": "stdout",
     "output_type": "stream",
     "text": [
      "False\n",
      "True\n"
     ]
    }
   ],
   "source": [
    "set_orginal = {1, 2, 3, 4}\n",
    "set_1 = {2, 4, 6, 8, 10}\n",
    "set_2 = {7, 10, 11, 15}\n",
    "\n",
    "# .isdisjoint(set)\n",
    "print(set_orginal.isdisjoint(set_1))  # {2, 4} are the common elements on set_orginal & set_2\n",
    "print(set_orginal.isdisjoint(set_2))  # No Common Element on set_orginal & set_2"
   ]
  },
  {
   "cell_type": "code",
   "execution_count": 16,
   "metadata": {},
   "outputs": [
    {
     "name": "stdout",
     "output_type": "stream",
     "text": [
      "True\n",
      "False\n",
      "True\n",
      "False\n"
     ]
    }
   ],
   "source": [
    "set_orginal = {1, 2, 3, 4}\n",
    "set_3 = {2, 3}\n",
    "set_4 = {1, 2, 5}\n",
    "\n",
    "# .issubset(set)\n",
    "print(set_3.issubset(set_orginal))  # All elements in set_3 is in set_orginal\n",
    "print(set_4.issubset(set_orginal))  # {5} in set_3 is not in set_orginal\n",
    "\n",
    "# .issuperset(set) <just reverse of arguments from issubset method>\n",
    "print(set_orginal.issuperset(set_3))  # All elements in set_3 is in set_orginal\n",
    "print(set_orginal.issuperset(set_4))  # {5} in set_3 is not in set_orginal"
   ]
  },
  {
   "cell_type": "code",
   "execution_count": 17,
   "metadata": {},
   "outputs": [
    {
     "name": "stdout",
     "output_type": "stream",
     "text": [
      "The Union : {1, 2, 3, 4, 6, 7, 8, 10, 11, 15}\n",
      "The Union : {1, 2, 3, 4, 6, 7, 8, 10, 11, 15}\n",
      "The Intersection : {2}\n",
      "The Intersection : {2}\n",
      "The Difference : {1, 3}\n",
      "The Difference : {1, 3}\n",
      "The Difference : {1, 3, 6, 8, 10}\n",
      "The Difference : {1, 3, 6, 8, 10}\n"
     ]
    }
   ],
   "source": [
    "set_orginal = {2, 4, 3, 1}\n",
    "set_1 = {2, 4, 6, 8, 10}\n",
    "set_2 = {2, 7, 10, 11, 15}\n",
    "\n",
    "# .union(set(s)) A u B\n",
    "print(\"The Union :\", set_orginal.union(set_1, set_2))  # Remove duplicates and return all elements of these three sets\n",
    "print(\"The Union :\", set_orginal | set_1 | set_2)  # Same thing with different notation\n",
    "\n",
    "# .intersection(set(s)) A ∩ B\n",
    "print(\"The Intersection :\",set_orginal.intersection(set_1, set_2))  # Returns only common elements in three sets\n",
    "print(\"The Intersection :\",set_orginal & set_1 & set_2)  # Same thing with different notation\n",
    "\n",
    "# .difference(set(s)) A \\ B \\ C\n",
    "print(\"The Difference :\",set_orginal.difference(set_1, set_2))  # Returns only not common elements of GIVEN SET in three sets\n",
    "print(\"The Difference :\",set_orginal - set_1 - set_2)  # Same thing with different notation\n",
    "\n",
    "# .symmetric_difference(set) A ^ B\n",
    "print(\"The Difference :\",set_orginal.symmetric_difference(set_1))  # Returns unique elements from each set. Removes common elm.\n",
    "print(\"The Difference :\",set_orginal ^ set_1)  # Same thing with different notation"
   ]
  },
  {
   "cell_type": "code",
   "execution_count": 18,
   "metadata": {},
   "outputs": [
    {
     "name": "stdout",
     "output_type": "stream",
     "text": [
      "The Union Update : {1, 2, 3, 4, 6, 7, 8, 10, 11, 15}\n"
     ]
    }
   ],
   "source": [
    "set_orginal = {2, 4, 3, 1}\n",
    "set_1 = {2, 4, 6, 8, 10}\n",
    "set_2 = {2, 7, 10, 11, 15}\n",
    "\n",
    "# .update(set(s))\n",
    "set_orginal.update(set_1, set_2)\n",
    "#set_orginal |= set_1 | set_2\n",
    "\n",
    "print(\"The Union Update :\", set_orginal)"
   ]
  },
  {
   "cell_type": "code",
   "execution_count": 19,
   "metadata": {},
   "outputs": [
    {
     "name": "stdout",
     "output_type": "stream",
     "text": [
      "The Intersection Update : {2}\n"
     ]
    }
   ],
   "source": [
    "set_orginal = {2, 4, 3, 1}\n",
    "set_1 = {2, 4, 6, 8, 10}\n",
    "set_2 = {2, 7, 10, 11, 15}\n",
    "\n",
    "# .intersection_update(set(s))\n",
    "set_orginal.intersection_update(set_1, set_2)\n",
    "#set_orginal &= set_1 & set_2\n",
    "\n",
    "print(\"The Intersection Update :\", set_orginal)"
   ]
  },
  {
   "cell_type": "code",
   "execution_count": 20,
   "metadata": {},
   "outputs": [
    {
     "name": "stdout",
     "output_type": "stream",
     "text": [
      "The Differece Update : {1, 3}\n"
     ]
    }
   ],
   "source": [
    "set_orginal = {2, 4, 3, 1}\n",
    "set_1 = {2, 4, 6, 8, 10}\n",
    "set_2 = {2, 7, 10, 11, 15}\n",
    "\n",
    "# .difference_update(set(s))\n",
    "set_orginal.difference_update(set_1, set_2)\n",
    "#set_orginal -= set_1 - set_2\n",
    "\n",
    "print(\"The Differece Update :\", set_orginal)"
   ]
  },
  {
   "cell_type": "code",
   "execution_count": 21,
   "metadata": {},
   "outputs": [
    {
     "name": "stdout",
     "output_type": "stream",
     "text": [
      "The Symmetric Differece Update : {1, 3, 6, 8, 10}\n"
     ]
    }
   ],
   "source": [
    "set_orginal = {2, 4, 3, 1}\n",
    "set_1 = {2, 4, 6, 8, 10}\n",
    "\n",
    "# .symmetric_difference_update(set)\n",
    "set_orginal.symmetric_difference_update(set_1)\n",
    "#set_orginal ^= set_1\n",
    "\n",
    "print(\"The Symmetric Differece Update :\", set_orginal)"
   ]
  },
  {
   "cell_type": "code",
   "execution_count": null,
   "metadata": {},
   "outputs": [],
   "source": []
  }
 ],
 "metadata": {
  "kernelspec": {
   "display_name": "Python 3",
   "language": "python",
   "name": "python3"
  },
  "language_info": {
   "codemirror_mode": {
    "name": "ipython",
    "version": 3
   },
   "file_extension": ".py",
   "mimetype": "text/x-python",
   "name": "python",
   "nbconvert_exporter": "python",
   "pygments_lexer": "ipython3",
   "version": "3.8.2"
  }
 },
 "nbformat": 4,
 "nbformat_minor": 4
}
